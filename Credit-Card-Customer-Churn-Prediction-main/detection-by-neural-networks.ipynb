{
 "cells": [
  {
   "cell_type": "code",
   "execution_count": 1,
   "id": "1ebe164f",
   "metadata": {
    "_cell_guid": "b1076dfc-b9ad-4769-8c92-a6c4dae69d19",
    "_uuid": "8f2839f25d086af736a60e9eeb907d3b93b6e0e5",
    "execution": {
     "iopub.execute_input": "2024-06-10T20:16:20.233873Z",
     "iopub.status.busy": "2024-06-10T20:16:20.233374Z",
     "iopub.status.idle": "2024-06-10T20:16:21.145535Z",
     "shell.execute_reply": "2024-06-10T20:16:21.144271Z"
    },
    "papermill": {
     "duration": 0.927304,
     "end_time": "2024-06-10T20:16:21.148166",
     "exception": false,
     "start_time": "2024-06-10T20:16:20.220862",
     "status": "completed"
    },
    "tags": []
   },
   "outputs": [
    {
     "name": "stdout",
     "output_type": "stream",
     "text": [
      "/kaggle/input/credit-card-customer-churn-prediction/Churn_Modelling.csv\n"
     ]
    }
   ],
   "source": [
    "# This Python 3 environment comes with many helpful analytics libraries installed\n",
    "# It is defined by the kaggle/python Docker image: https://github.com/kaggle/docker-python\n",
    "# For example, here's several helpful packages to load\n",
    "\n",
    "import numpy as np # linear algebra\n",
    "import pandas as pd # data processing, CSV file I/O (e.g. pd.read_csv)\n",
    "\n",
    "# Input data files are available in the read-only \"../input/\" directory\n",
    "# For example, running this (by clicking run or pressing Shift+Enter) will list all files under the input directory\n",
    "\n",
    "import os\n",
    "for dirname, _, filenames in os.walk('/kaggle/input'):\n",
    "    for filename in filenames:\n",
    "        print(os.path.join(dirname, filename))\n",
    "\n",
    "# You can write up to 20GB to the current directory (/kaggle/working/) that gets preserved as output when you create a version using \"Save & Run All\" \n",
    "# You can also write temporary files to /kaggle/temp/, but they won't be saved outside of the current session"
   ]
  },
  {
   "cell_type": "code",
   "execution_count": 2,
   "id": "f2094a7d",
   "metadata": {
    "execution": {
     "iopub.execute_input": "2024-06-10T20:16:21.171155Z",
     "iopub.status.busy": "2024-06-10T20:16:21.170333Z",
     "iopub.status.idle": "2024-06-10T20:16:22.466235Z",
     "shell.execute_reply": "2024-06-10T20:16:22.465241Z"
    },
    "papermill": {
     "duration": 1.310337,
     "end_time": "2024-06-10T20:16:22.468929",
     "exception": false,
     "start_time": "2024-06-10T20:16:21.158592",
     "status": "completed"
    },
    "tags": []
   },
   "outputs": [],
   "source": [
    "import pandas as pd\n",
    "import numpy as np\n",
    "import matplotlib.pyplot as plt\n",
    "import seaborn as sns"
   ]
  },
  {
   "cell_type": "code",
   "execution_count": 3,
   "id": "8cafdf7f",
   "metadata": {
    "execution": {
     "iopub.execute_input": "2024-06-10T20:16:22.491489Z",
     "iopub.status.busy": "2024-06-10T20:16:22.491123Z",
     "iopub.status.idle": "2024-06-10T20:16:22.543609Z",
     "shell.execute_reply": "2024-06-10T20:16:22.542701Z"
    },
    "papermill": {
     "duration": 0.066769,
     "end_time": "2024-06-10T20:16:22.546233",
     "exception": false,
     "start_time": "2024-06-10T20:16:22.479464",
     "status": "completed"
    },
    "tags": []
   },
   "outputs": [],
   "source": [
    "df=pd.read_csv(\"/kaggle/input/credit-card-customer-churn-prediction/Churn_Modelling.csv\")"
   ]
  },
  {
   "cell_type": "code",
   "execution_count": 4,
   "id": "3c5eaa8c",
   "metadata": {
    "execution": {
     "iopub.execute_input": "2024-06-10T20:16:22.569282Z",
     "iopub.status.busy": "2024-06-10T20:16:22.568459Z",
     "iopub.status.idle": "2024-06-10T20:16:22.595799Z",
     "shell.execute_reply": "2024-06-10T20:16:22.594784Z"
    },
    "papermill": {
     "duration": 0.041326,
     "end_time": "2024-06-10T20:16:22.598185",
     "exception": false,
     "start_time": "2024-06-10T20:16:22.556859",
     "status": "completed"
    },
    "tags": []
   },
   "outputs": [
    {
     "data": {
      "text/html": [
       "<div>\n",
       "<style scoped>\n",
       "    .dataframe tbody tr th:only-of-type {\n",
       "        vertical-align: middle;\n",
       "    }\n",
       "\n",
       "    .dataframe tbody tr th {\n",
       "        vertical-align: top;\n",
       "    }\n",
       "\n",
       "    .dataframe thead th {\n",
       "        text-align: right;\n",
       "    }\n",
       "</style>\n",
       "<table border=\"1\" class=\"dataframe\">\n",
       "  <thead>\n",
       "    <tr style=\"text-align: right;\">\n",
       "      <th></th>\n",
       "      <th>RowNumber</th>\n",
       "      <th>CustomerId</th>\n",
       "      <th>Surname</th>\n",
       "      <th>CreditScore</th>\n",
       "      <th>Geography</th>\n",
       "      <th>Gender</th>\n",
       "      <th>Age</th>\n",
       "      <th>Tenure</th>\n",
       "      <th>Balance</th>\n",
       "      <th>NumOfProducts</th>\n",
       "      <th>HasCrCard</th>\n",
       "      <th>IsActiveMember</th>\n",
       "      <th>EstimatedSalary</th>\n",
       "      <th>Exited</th>\n",
       "    </tr>\n",
       "  </thead>\n",
       "  <tbody>\n",
       "    <tr>\n",
       "      <th>0</th>\n",
       "      <td>1</td>\n",
       "      <td>15634602</td>\n",
       "      <td>Hargrave</td>\n",
       "      <td>619</td>\n",
       "      <td>France</td>\n",
       "      <td>Female</td>\n",
       "      <td>42</td>\n",
       "      <td>2</td>\n",
       "      <td>0.00</td>\n",
       "      <td>1</td>\n",
       "      <td>1</td>\n",
       "      <td>1</td>\n",
       "      <td>101348.88</td>\n",
       "      <td>1</td>\n",
       "    </tr>\n",
       "    <tr>\n",
       "      <th>1</th>\n",
       "      <td>2</td>\n",
       "      <td>15647311</td>\n",
       "      <td>Hill</td>\n",
       "      <td>608</td>\n",
       "      <td>Spain</td>\n",
       "      <td>Female</td>\n",
       "      <td>41</td>\n",
       "      <td>1</td>\n",
       "      <td>83807.86</td>\n",
       "      <td>1</td>\n",
       "      <td>0</td>\n",
       "      <td>1</td>\n",
       "      <td>112542.58</td>\n",
       "      <td>0</td>\n",
       "    </tr>\n",
       "    <tr>\n",
       "      <th>2</th>\n",
       "      <td>3</td>\n",
       "      <td>15619304</td>\n",
       "      <td>Onio</td>\n",
       "      <td>502</td>\n",
       "      <td>France</td>\n",
       "      <td>Female</td>\n",
       "      <td>42</td>\n",
       "      <td>8</td>\n",
       "      <td>159660.80</td>\n",
       "      <td>3</td>\n",
       "      <td>1</td>\n",
       "      <td>0</td>\n",
       "      <td>113931.57</td>\n",
       "      <td>1</td>\n",
       "    </tr>\n",
       "    <tr>\n",
       "      <th>3</th>\n",
       "      <td>4</td>\n",
       "      <td>15701354</td>\n",
       "      <td>Boni</td>\n",
       "      <td>699</td>\n",
       "      <td>France</td>\n",
       "      <td>Female</td>\n",
       "      <td>39</td>\n",
       "      <td>1</td>\n",
       "      <td>0.00</td>\n",
       "      <td>2</td>\n",
       "      <td>0</td>\n",
       "      <td>0</td>\n",
       "      <td>93826.63</td>\n",
       "      <td>0</td>\n",
       "    </tr>\n",
       "    <tr>\n",
       "      <th>4</th>\n",
       "      <td>5</td>\n",
       "      <td>15737888</td>\n",
       "      <td>Mitchell</td>\n",
       "      <td>850</td>\n",
       "      <td>Spain</td>\n",
       "      <td>Female</td>\n",
       "      <td>43</td>\n",
       "      <td>2</td>\n",
       "      <td>125510.82</td>\n",
       "      <td>1</td>\n",
       "      <td>1</td>\n",
       "      <td>1</td>\n",
       "      <td>79084.10</td>\n",
       "      <td>0</td>\n",
       "    </tr>\n",
       "  </tbody>\n",
       "</table>\n",
       "</div>"
      ],
      "text/plain": [
       "   RowNumber  CustomerId   Surname  CreditScore Geography  Gender  Age  \\\n",
       "0          1    15634602  Hargrave          619    France  Female   42   \n",
       "1          2    15647311      Hill          608     Spain  Female   41   \n",
       "2          3    15619304      Onio          502    France  Female   42   \n",
       "3          4    15701354      Boni          699    France  Female   39   \n",
       "4          5    15737888  Mitchell          850     Spain  Female   43   \n",
       "\n",
       "   Tenure    Balance  NumOfProducts  HasCrCard  IsActiveMember  \\\n",
       "0       2       0.00              1          1               1   \n",
       "1       1   83807.86              1          0               1   \n",
       "2       8  159660.80              3          1               0   \n",
       "3       1       0.00              2          0               0   \n",
       "4       2  125510.82              1          1               1   \n",
       "\n",
       "   EstimatedSalary  Exited  \n",
       "0        101348.88       1  \n",
       "1        112542.58       0  \n",
       "2        113931.57       1  \n",
       "3         93826.63       0  \n",
       "4         79084.10       0  "
      ]
     },
     "execution_count": 4,
     "metadata": {},
     "output_type": "execute_result"
    }
   ],
   "source": [
    "df.head()"
   ]
  },
  {
   "cell_type": "code",
   "execution_count": 5,
   "id": "2cf70458",
   "metadata": {
    "execution": {
     "iopub.execute_input": "2024-06-10T20:16:22.621021Z",
     "iopub.status.busy": "2024-06-10T20:16:22.620607Z",
     "iopub.status.idle": "2024-06-10T20:16:22.635056Z",
     "shell.execute_reply": "2024-06-10T20:16:22.633904Z"
    },
    "papermill": {
     "duration": 0.028423,
     "end_time": "2024-06-10T20:16:22.637316",
     "exception": false,
     "start_time": "2024-06-10T20:16:22.608893",
     "status": "completed"
    },
    "tags": []
   },
   "outputs": [
    {
     "data": {
      "text/plain": [
       "RowNumber          0\n",
       "CustomerId         0\n",
       "Surname            0\n",
       "CreditScore        0\n",
       "Geography          0\n",
       "Gender             0\n",
       "Age                0\n",
       "Tenure             0\n",
       "Balance            0\n",
       "NumOfProducts      0\n",
       "HasCrCard          0\n",
       "IsActiveMember     0\n",
       "EstimatedSalary    0\n",
       "Exited             0\n",
       "dtype: int64"
      ]
     },
     "execution_count": 5,
     "metadata": {},
     "output_type": "execute_result"
    }
   ],
   "source": [
    "df.isnull().sum()"
   ]
  },
  {
   "cell_type": "code",
   "execution_count": 6,
   "id": "75ff9e59",
   "metadata": {
    "execution": {
     "iopub.execute_input": "2024-06-10T20:16:22.661329Z",
     "iopub.status.busy": "2024-06-10T20:16:22.660591Z",
     "iopub.status.idle": "2024-06-10T20:16:22.685000Z",
     "shell.execute_reply": "2024-06-10T20:16:22.683869Z"
    },
    "papermill": {
     "duration": 0.03989,
     "end_time": "2024-06-10T20:16:22.688111",
     "exception": false,
     "start_time": "2024-06-10T20:16:22.648221",
     "status": "completed"
    },
    "tags": []
   },
   "outputs": [
    {
     "name": "stdout",
     "output_type": "stream",
     "text": [
      "<class 'pandas.core.frame.DataFrame'>\n",
      "RangeIndex: 10000 entries, 0 to 9999\n",
      "Data columns (total 14 columns):\n",
      " #   Column           Non-Null Count  Dtype  \n",
      "---  ------           --------------  -----  \n",
      " 0   RowNumber        10000 non-null  int64  \n",
      " 1   CustomerId       10000 non-null  int64  \n",
      " 2   Surname          10000 non-null  object \n",
      " 3   CreditScore      10000 non-null  int64  \n",
      " 4   Geography        10000 non-null  object \n",
      " 5   Gender           10000 non-null  object \n",
      " 6   Age              10000 non-null  int64  \n",
      " 7   Tenure           10000 non-null  int64  \n",
      " 8   Balance          10000 non-null  float64\n",
      " 9   NumOfProducts    10000 non-null  int64  \n",
      " 10  HasCrCard        10000 non-null  int64  \n",
      " 11  IsActiveMember   10000 non-null  int64  \n",
      " 12  EstimatedSalary  10000 non-null  float64\n",
      " 13  Exited           10000 non-null  int64  \n",
      "dtypes: float64(2), int64(9), object(3)\n",
      "memory usage: 1.1+ MB\n"
     ]
    }
   ],
   "source": [
    "df.info()"
   ]
  },
  {
   "cell_type": "code",
   "execution_count": 7,
   "id": "183627d5",
   "metadata": {
    "execution": {
     "iopub.execute_input": "2024-06-10T20:16:22.711801Z",
     "iopub.status.busy": "2024-06-10T20:16:22.711432Z",
     "iopub.status.idle": "2024-06-10T20:16:22.726061Z",
     "shell.execute_reply": "2024-06-10T20:16:22.725044Z"
    },
    "papermill": {
     "duration": 0.029357,
     "end_time": "2024-06-10T20:16:22.728509",
     "exception": false,
     "start_time": "2024-06-10T20:16:22.699152",
     "status": "completed"
    },
    "tags": []
   },
   "outputs": [
    {
     "data": {
      "text/plain": [
       "0"
      ]
     },
     "execution_count": 7,
     "metadata": {},
     "output_type": "execute_result"
    }
   ],
   "source": [
    "df.duplicated().sum()"
   ]
  },
  {
   "cell_type": "code",
   "execution_count": 8,
   "id": "3b80a595",
   "metadata": {
    "execution": {
     "iopub.execute_input": "2024-06-10T20:16:22.753081Z",
     "iopub.status.busy": "2024-06-10T20:16:22.752293Z",
     "iopub.status.idle": "2024-06-10T20:16:22.762567Z",
     "shell.execute_reply": "2024-06-10T20:16:22.761497Z"
    },
    "papermill": {
     "duration": 0.025336,
     "end_time": "2024-06-10T20:16:22.765149",
     "exception": false,
     "start_time": "2024-06-10T20:16:22.739813",
     "status": "completed"
    },
    "tags": []
   },
   "outputs": [
    {
     "data": {
      "text/plain": [
       "Geography\n",
       "France     5014\n",
       "Germany    2509\n",
       "Spain      2477\n",
       "Name: count, dtype: int64"
      ]
     },
     "execution_count": 8,
     "metadata": {},
     "output_type": "execute_result"
    }
   ],
   "source": [
    "df[\"Geography\"].value_counts()"
   ]
  },
  {
   "cell_type": "code",
   "execution_count": 9,
   "id": "2d4dce46",
   "metadata": {
    "execution": {
     "iopub.execute_input": "2024-06-10T20:16:22.789703Z",
     "iopub.status.busy": "2024-06-10T20:16:22.789305Z",
     "iopub.status.idle": "2024-06-10T20:16:22.800161Z",
     "shell.execute_reply": "2024-06-10T20:16:22.798041Z"
    },
    "papermill": {
     "duration": 0.026457,
     "end_time": "2024-06-10T20:16:22.802936",
     "exception": false,
     "start_time": "2024-06-10T20:16:22.776479",
     "status": "completed"
    },
    "tags": []
   },
   "outputs": [],
   "source": [
    "df.drop(columns=[\"RowNumber\",\"CustomerId\",\"Surname\"],inplace=True)"
   ]
  },
  {
   "cell_type": "code",
   "execution_count": 10,
   "id": "8806b76a",
   "metadata": {
    "execution": {
     "iopub.execute_input": "2024-06-10T20:16:22.827501Z",
     "iopub.status.busy": "2024-06-10T20:16:22.827138Z",
     "iopub.status.idle": "2024-06-10T20:16:22.842942Z",
     "shell.execute_reply": "2024-06-10T20:16:22.841787Z"
    },
    "papermill": {
     "duration": 0.030889,
     "end_time": "2024-06-10T20:16:22.845414",
     "exception": false,
     "start_time": "2024-06-10T20:16:22.814525",
     "status": "completed"
    },
    "tags": []
   },
   "outputs": [
    {
     "data": {
      "text/html": [
       "<div>\n",
       "<style scoped>\n",
       "    .dataframe tbody tr th:only-of-type {\n",
       "        vertical-align: middle;\n",
       "    }\n",
       "\n",
       "    .dataframe tbody tr th {\n",
       "        vertical-align: top;\n",
       "    }\n",
       "\n",
       "    .dataframe thead th {\n",
       "        text-align: right;\n",
       "    }\n",
       "</style>\n",
       "<table border=\"1\" class=\"dataframe\">\n",
       "  <thead>\n",
       "    <tr style=\"text-align: right;\">\n",
       "      <th></th>\n",
       "      <th>CreditScore</th>\n",
       "      <th>Geography</th>\n",
       "      <th>Gender</th>\n",
       "      <th>Age</th>\n",
       "      <th>Tenure</th>\n",
       "      <th>Balance</th>\n",
       "      <th>NumOfProducts</th>\n",
       "      <th>HasCrCard</th>\n",
       "      <th>IsActiveMember</th>\n",
       "      <th>EstimatedSalary</th>\n",
       "      <th>Exited</th>\n",
       "    </tr>\n",
       "  </thead>\n",
       "  <tbody>\n",
       "    <tr>\n",
       "      <th>0</th>\n",
       "      <td>619</td>\n",
       "      <td>France</td>\n",
       "      <td>Female</td>\n",
       "      <td>42</td>\n",
       "      <td>2</td>\n",
       "      <td>0.00</td>\n",
       "      <td>1</td>\n",
       "      <td>1</td>\n",
       "      <td>1</td>\n",
       "      <td>101348.88</td>\n",
       "      <td>1</td>\n",
       "    </tr>\n",
       "    <tr>\n",
       "      <th>1</th>\n",
       "      <td>608</td>\n",
       "      <td>Spain</td>\n",
       "      <td>Female</td>\n",
       "      <td>41</td>\n",
       "      <td>1</td>\n",
       "      <td>83807.86</td>\n",
       "      <td>1</td>\n",
       "      <td>0</td>\n",
       "      <td>1</td>\n",
       "      <td>112542.58</td>\n",
       "      <td>0</td>\n",
       "    </tr>\n",
       "    <tr>\n",
       "      <th>2</th>\n",
       "      <td>502</td>\n",
       "      <td>France</td>\n",
       "      <td>Female</td>\n",
       "      <td>42</td>\n",
       "      <td>8</td>\n",
       "      <td>159660.80</td>\n",
       "      <td>3</td>\n",
       "      <td>1</td>\n",
       "      <td>0</td>\n",
       "      <td>113931.57</td>\n",
       "      <td>1</td>\n",
       "    </tr>\n",
       "    <tr>\n",
       "      <th>3</th>\n",
       "      <td>699</td>\n",
       "      <td>France</td>\n",
       "      <td>Female</td>\n",
       "      <td>39</td>\n",
       "      <td>1</td>\n",
       "      <td>0.00</td>\n",
       "      <td>2</td>\n",
       "      <td>0</td>\n",
       "      <td>0</td>\n",
       "      <td>93826.63</td>\n",
       "      <td>0</td>\n",
       "    </tr>\n",
       "    <tr>\n",
       "      <th>4</th>\n",
       "      <td>850</td>\n",
       "      <td>Spain</td>\n",
       "      <td>Female</td>\n",
       "      <td>43</td>\n",
       "      <td>2</td>\n",
       "      <td>125510.82</td>\n",
       "      <td>1</td>\n",
       "      <td>1</td>\n",
       "      <td>1</td>\n",
       "      <td>79084.10</td>\n",
       "      <td>0</td>\n",
       "    </tr>\n",
       "  </tbody>\n",
       "</table>\n",
       "</div>"
      ],
      "text/plain": [
       "   CreditScore Geography  Gender  Age  Tenure    Balance  NumOfProducts  \\\n",
       "0          619    France  Female   42       2       0.00              1   \n",
       "1          608     Spain  Female   41       1   83807.86              1   \n",
       "2          502    France  Female   42       8  159660.80              3   \n",
       "3          699    France  Female   39       1       0.00              2   \n",
       "4          850     Spain  Female   43       2  125510.82              1   \n",
       "\n",
       "   HasCrCard  IsActiveMember  EstimatedSalary  Exited  \n",
       "0          1               1        101348.88       1  \n",
       "1          0               1        112542.58       0  \n",
       "2          1               0        113931.57       1  \n",
       "3          0               0         93826.63       0  \n",
       "4          1               1         79084.10       0  "
      ]
     },
     "execution_count": 10,
     "metadata": {},
     "output_type": "execute_result"
    }
   ],
   "source": [
    "df.head()"
   ]
  },
  {
   "cell_type": "code",
   "execution_count": 11,
   "id": "ff307919",
   "metadata": {
    "execution": {
     "iopub.execute_input": "2024-06-10T20:16:22.871405Z",
     "iopub.status.busy": "2024-06-10T20:16:22.870469Z",
     "iopub.status.idle": "2024-06-10T20:16:22.882388Z",
     "shell.execute_reply": "2024-06-10T20:16:22.881452Z"
    },
    "papermill": {
     "duration": 0.027328,
     "end_time": "2024-06-10T20:16:22.884915",
     "exception": false,
     "start_time": "2024-06-10T20:16:22.857587",
     "status": "completed"
    },
    "tags": []
   },
   "outputs": [],
   "source": [
    "df=pd.get_dummies(df,columns=[\"Geography\",\"Gender\"],drop_first=True)"
   ]
  },
  {
   "cell_type": "code",
   "execution_count": 12,
   "id": "0b8c9e32",
   "metadata": {
    "execution": {
     "iopub.execute_input": "2024-06-10T20:16:22.910434Z",
     "iopub.status.busy": "2024-06-10T20:16:22.909640Z",
     "iopub.status.idle": "2024-06-10T20:16:22.925888Z",
     "shell.execute_reply": "2024-06-10T20:16:22.924881Z"
    },
    "papermill": {
     "duration": 0.031649,
     "end_time": "2024-06-10T20:16:22.928170",
     "exception": false,
     "start_time": "2024-06-10T20:16:22.896521",
     "status": "completed"
    },
    "tags": []
   },
   "outputs": [
    {
     "data": {
      "text/html": [
       "<div>\n",
       "<style scoped>\n",
       "    .dataframe tbody tr th:only-of-type {\n",
       "        vertical-align: middle;\n",
       "    }\n",
       "\n",
       "    .dataframe tbody tr th {\n",
       "        vertical-align: top;\n",
       "    }\n",
       "\n",
       "    .dataframe thead th {\n",
       "        text-align: right;\n",
       "    }\n",
       "</style>\n",
       "<table border=\"1\" class=\"dataframe\">\n",
       "  <thead>\n",
       "    <tr style=\"text-align: right;\">\n",
       "      <th></th>\n",
       "      <th>CreditScore</th>\n",
       "      <th>Age</th>\n",
       "      <th>Tenure</th>\n",
       "      <th>Balance</th>\n",
       "      <th>NumOfProducts</th>\n",
       "      <th>HasCrCard</th>\n",
       "      <th>IsActiveMember</th>\n",
       "      <th>EstimatedSalary</th>\n",
       "      <th>Exited</th>\n",
       "      <th>Geography_Germany</th>\n",
       "      <th>Geography_Spain</th>\n",
       "      <th>Gender_Male</th>\n",
       "    </tr>\n",
       "  </thead>\n",
       "  <tbody>\n",
       "    <tr>\n",
       "      <th>0</th>\n",
       "      <td>619</td>\n",
       "      <td>42</td>\n",
       "      <td>2</td>\n",
       "      <td>0.00</td>\n",
       "      <td>1</td>\n",
       "      <td>1</td>\n",
       "      <td>1</td>\n",
       "      <td>101348.88</td>\n",
       "      <td>1</td>\n",
       "      <td>False</td>\n",
       "      <td>False</td>\n",
       "      <td>False</td>\n",
       "    </tr>\n",
       "    <tr>\n",
       "      <th>1</th>\n",
       "      <td>608</td>\n",
       "      <td>41</td>\n",
       "      <td>1</td>\n",
       "      <td>83807.86</td>\n",
       "      <td>1</td>\n",
       "      <td>0</td>\n",
       "      <td>1</td>\n",
       "      <td>112542.58</td>\n",
       "      <td>0</td>\n",
       "      <td>False</td>\n",
       "      <td>True</td>\n",
       "      <td>False</td>\n",
       "    </tr>\n",
       "    <tr>\n",
       "      <th>2</th>\n",
       "      <td>502</td>\n",
       "      <td>42</td>\n",
       "      <td>8</td>\n",
       "      <td>159660.80</td>\n",
       "      <td>3</td>\n",
       "      <td>1</td>\n",
       "      <td>0</td>\n",
       "      <td>113931.57</td>\n",
       "      <td>1</td>\n",
       "      <td>False</td>\n",
       "      <td>False</td>\n",
       "      <td>False</td>\n",
       "    </tr>\n",
       "    <tr>\n",
       "      <th>3</th>\n",
       "      <td>699</td>\n",
       "      <td>39</td>\n",
       "      <td>1</td>\n",
       "      <td>0.00</td>\n",
       "      <td>2</td>\n",
       "      <td>0</td>\n",
       "      <td>0</td>\n",
       "      <td>93826.63</td>\n",
       "      <td>0</td>\n",
       "      <td>False</td>\n",
       "      <td>False</td>\n",
       "      <td>False</td>\n",
       "    </tr>\n",
       "    <tr>\n",
       "      <th>4</th>\n",
       "      <td>850</td>\n",
       "      <td>43</td>\n",
       "      <td>2</td>\n",
       "      <td>125510.82</td>\n",
       "      <td>1</td>\n",
       "      <td>1</td>\n",
       "      <td>1</td>\n",
       "      <td>79084.10</td>\n",
       "      <td>0</td>\n",
       "      <td>False</td>\n",
       "      <td>True</td>\n",
       "      <td>False</td>\n",
       "    </tr>\n",
       "  </tbody>\n",
       "</table>\n",
       "</div>"
      ],
      "text/plain": [
       "   CreditScore  Age  Tenure    Balance  NumOfProducts  HasCrCard  \\\n",
       "0          619   42       2       0.00              1          1   \n",
       "1          608   41       1   83807.86              1          0   \n",
       "2          502   42       8  159660.80              3          1   \n",
       "3          699   39       1       0.00              2          0   \n",
       "4          850   43       2  125510.82              1          1   \n",
       "\n",
       "   IsActiveMember  EstimatedSalary  Exited  Geography_Germany  \\\n",
       "0               1        101348.88       1              False   \n",
       "1               1        112542.58       0              False   \n",
       "2               0        113931.57       1              False   \n",
       "3               0         93826.63       0              False   \n",
       "4               1         79084.10       0              False   \n",
       "\n",
       "   Geography_Spain  Gender_Male  \n",
       "0            False        False  \n",
       "1             True        False  \n",
       "2            False        False  \n",
       "3            False        False  \n",
       "4             True        False  "
      ]
     },
     "execution_count": 12,
     "metadata": {},
     "output_type": "execute_result"
    }
   ],
   "source": [
    "df.head()"
   ]
  },
  {
   "cell_type": "code",
   "execution_count": 13,
   "id": "fec4e19c",
   "metadata": {
    "execution": {
     "iopub.execute_input": "2024-06-10T20:16:22.954582Z",
     "iopub.status.busy": "2024-06-10T20:16:22.953596Z",
     "iopub.status.idle": "2024-06-10T20:16:22.960465Z",
     "shell.execute_reply": "2024-06-10T20:16:22.959386Z"
    },
    "papermill": {
     "duration": 0.022593,
     "end_time": "2024-06-10T20:16:22.962873",
     "exception": false,
     "start_time": "2024-06-10T20:16:22.940280",
     "status": "completed"
    },
    "tags": []
   },
   "outputs": [],
   "source": [
    "x=df.drop(columns=['Exited'])\n",
    "y=df[\"Exited\"]"
   ]
  },
  {
   "cell_type": "code",
   "execution_count": 14,
   "id": "1ba2d4bd",
   "metadata": {
    "execution": {
     "iopub.execute_input": "2024-06-10T20:16:22.988548Z",
     "iopub.status.busy": "2024-06-10T20:16:22.988158Z",
     "iopub.status.idle": "2024-06-10T20:16:23.322027Z",
     "shell.execute_reply": "2024-06-10T20:16:23.320883Z"
    },
    "papermill": {
     "duration": 0.349826,
     "end_time": "2024-06-10T20:16:23.324786",
     "exception": false,
     "start_time": "2024-06-10T20:16:22.974960",
     "status": "completed"
    },
    "tags": []
   },
   "outputs": [],
   "source": [
    "from sklearn.model_selection import train_test_split\n",
    "x_train,x_test,y_train,y_test=train_test_split(x,y,test_size=0.2,random_state=18)"
   ]
  },
  {
   "cell_type": "code",
   "execution_count": 15,
   "id": "d3ffd131",
   "metadata": {
    "execution": {
     "iopub.execute_input": "2024-06-10T20:16:23.350341Z",
     "iopub.status.busy": "2024-06-10T20:16:23.349951Z",
     "iopub.status.idle": "2024-06-10T20:16:23.369921Z",
     "shell.execute_reply": "2024-06-10T20:16:23.368867Z"
    },
    "papermill": {
     "duration": 0.035807,
     "end_time": "2024-06-10T20:16:23.372379",
     "exception": false,
     "start_time": "2024-06-10T20:16:23.336572",
     "status": "completed"
    },
    "tags": []
   },
   "outputs": [
    {
     "data": {
      "text/html": [
       "<div>\n",
       "<style scoped>\n",
       "    .dataframe tbody tr th:only-of-type {\n",
       "        vertical-align: middle;\n",
       "    }\n",
       "\n",
       "    .dataframe tbody tr th {\n",
       "        vertical-align: top;\n",
       "    }\n",
       "\n",
       "    .dataframe thead th {\n",
       "        text-align: right;\n",
       "    }\n",
       "</style>\n",
       "<table border=\"1\" class=\"dataframe\">\n",
       "  <thead>\n",
       "    <tr style=\"text-align: right;\">\n",
       "      <th></th>\n",
       "      <th>CreditScore</th>\n",
       "      <th>Age</th>\n",
       "      <th>Tenure</th>\n",
       "      <th>Balance</th>\n",
       "      <th>NumOfProducts</th>\n",
       "      <th>HasCrCard</th>\n",
       "      <th>IsActiveMember</th>\n",
       "      <th>EstimatedSalary</th>\n",
       "      <th>Geography_Germany</th>\n",
       "      <th>Geography_Spain</th>\n",
       "      <th>Gender_Male</th>\n",
       "    </tr>\n",
       "  </thead>\n",
       "  <tbody>\n",
       "    <tr>\n",
       "      <th>8579</th>\n",
       "      <td>650</td>\n",
       "      <td>34</td>\n",
       "      <td>4</td>\n",
       "      <td>106005.54</td>\n",
       "      <td>1</td>\n",
       "      <td>0</td>\n",
       "      <td>1</td>\n",
       "      <td>142995.32</td>\n",
       "      <td>False</td>\n",
       "      <td>False</td>\n",
       "      <td>True</td>\n",
       "    </tr>\n",
       "    <tr>\n",
       "      <th>8894</th>\n",
       "      <td>485</td>\n",
       "      <td>39</td>\n",
       "      <td>2</td>\n",
       "      <td>75339.64</td>\n",
       "      <td>1</td>\n",
       "      <td>1</td>\n",
       "      <td>1</td>\n",
       "      <td>70665.16</td>\n",
       "      <td>False</td>\n",
       "      <td>False</td>\n",
       "      <td>False</td>\n",
       "    </tr>\n",
       "    <tr>\n",
       "      <th>5078</th>\n",
       "      <td>743</td>\n",
       "      <td>35</td>\n",
       "      <td>6</td>\n",
       "      <td>79388.33</td>\n",
       "      <td>1</td>\n",
       "      <td>1</td>\n",
       "      <td>1</td>\n",
       "      <td>193360.69</td>\n",
       "      <td>False</td>\n",
       "      <td>True</td>\n",
       "      <td>True</td>\n",
       "    </tr>\n",
       "    <tr>\n",
       "      <th>505</th>\n",
       "      <td>584</td>\n",
       "      <td>31</td>\n",
       "      <td>5</td>\n",
       "      <td>0.00</td>\n",
       "      <td>2</td>\n",
       "      <td>1</td>\n",
       "      <td>0</td>\n",
       "      <td>31474.27</td>\n",
       "      <td>False</td>\n",
       "      <td>False</td>\n",
       "      <td>True</td>\n",
       "    </tr>\n",
       "    <tr>\n",
       "      <th>6735</th>\n",
       "      <td>842</td>\n",
       "      <td>37</td>\n",
       "      <td>4</td>\n",
       "      <td>132446.08</td>\n",
       "      <td>2</td>\n",
       "      <td>1</td>\n",
       "      <td>0</td>\n",
       "      <td>87071.18</td>\n",
       "      <td>False</td>\n",
       "      <td>False</td>\n",
       "      <td>False</td>\n",
       "    </tr>\n",
       "    <tr>\n",
       "      <th>...</th>\n",
       "      <td>...</td>\n",
       "      <td>...</td>\n",
       "      <td>...</td>\n",
       "      <td>...</td>\n",
       "      <td>...</td>\n",
       "      <td>...</td>\n",
       "      <td>...</td>\n",
       "      <td>...</td>\n",
       "      <td>...</td>\n",
       "      <td>...</td>\n",
       "      <td>...</td>\n",
       "    </tr>\n",
       "    <tr>\n",
       "      <th>2290</th>\n",
       "      <td>658</td>\n",
       "      <td>50</td>\n",
       "      <td>2</td>\n",
       "      <td>0.00</td>\n",
       "      <td>2</td>\n",
       "      <td>1</td>\n",
       "      <td>0</td>\n",
       "      <td>52137.73</td>\n",
       "      <td>False</td>\n",
       "      <td>True</td>\n",
       "      <td>True</td>\n",
       "    </tr>\n",
       "    <tr>\n",
       "      <th>5294</th>\n",
       "      <td>509</td>\n",
       "      <td>32</td>\n",
       "      <td>9</td>\n",
       "      <td>170661.47</td>\n",
       "      <td>1</td>\n",
       "      <td>1</td>\n",
       "      <td>1</td>\n",
       "      <td>21646.20</td>\n",
       "      <td>True</td>\n",
       "      <td>False</td>\n",
       "      <td>True</td>\n",
       "    </tr>\n",
       "    <tr>\n",
       "      <th>1726</th>\n",
       "      <td>776</td>\n",
       "      <td>38</td>\n",
       "      <td>5</td>\n",
       "      <td>112281.70</td>\n",
       "      <td>1</td>\n",
       "      <td>0</td>\n",
       "      <td>1</td>\n",
       "      <td>89893.60</td>\n",
       "      <td>True</td>\n",
       "      <td>False</td>\n",
       "      <td>True</td>\n",
       "    </tr>\n",
       "    <tr>\n",
       "      <th>2885</th>\n",
       "      <td>660</td>\n",
       "      <td>42</td>\n",
       "      <td>5</td>\n",
       "      <td>0.00</td>\n",
       "      <td>2</td>\n",
       "      <td>1</td>\n",
       "      <td>0</td>\n",
       "      <td>115509.59</td>\n",
       "      <td>False</td>\n",
       "      <td>True</td>\n",
       "      <td>True</td>\n",
       "    </tr>\n",
       "    <tr>\n",
       "      <th>9336</th>\n",
       "      <td>695</td>\n",
       "      <td>49</td>\n",
       "      <td>9</td>\n",
       "      <td>159458.53</td>\n",
       "      <td>1</td>\n",
       "      <td>1</td>\n",
       "      <td>0</td>\n",
       "      <td>135841.35</td>\n",
       "      <td>False</td>\n",
       "      <td>False</td>\n",
       "      <td>True</td>\n",
       "    </tr>\n",
       "  </tbody>\n",
       "</table>\n",
       "<p>8000 rows × 11 columns</p>\n",
       "</div>"
      ],
      "text/plain": [
       "      CreditScore  Age  Tenure    Balance  NumOfProducts  HasCrCard  \\\n",
       "8579          650   34       4  106005.54              1          0   \n",
       "8894          485   39       2   75339.64              1          1   \n",
       "5078          743   35       6   79388.33              1          1   \n",
       "505           584   31       5       0.00              2          1   \n",
       "6735          842   37       4  132446.08              2          1   \n",
       "...           ...  ...     ...        ...            ...        ...   \n",
       "2290          658   50       2       0.00              2          1   \n",
       "5294          509   32       9  170661.47              1          1   \n",
       "1726          776   38       5  112281.70              1          0   \n",
       "2885          660   42       5       0.00              2          1   \n",
       "9336          695   49       9  159458.53              1          1   \n",
       "\n",
       "      IsActiveMember  EstimatedSalary  Geography_Germany  Geography_Spain  \\\n",
       "8579               1        142995.32              False            False   \n",
       "8894               1         70665.16              False            False   \n",
       "5078               1        193360.69              False             True   \n",
       "505                0         31474.27              False            False   \n",
       "6735               0         87071.18              False            False   \n",
       "...              ...              ...                ...              ...   \n",
       "2290               0         52137.73              False             True   \n",
       "5294               1         21646.20               True            False   \n",
       "1726               1         89893.60               True            False   \n",
       "2885               0        115509.59              False             True   \n",
       "9336               0        135841.35              False            False   \n",
       "\n",
       "      Gender_Male  \n",
       "8579         True  \n",
       "8894        False  \n",
       "5078         True  \n",
       "505          True  \n",
       "6735        False  \n",
       "...           ...  \n",
       "2290         True  \n",
       "5294         True  \n",
       "1726         True  \n",
       "2885         True  \n",
       "9336         True  \n",
       "\n",
       "[8000 rows x 11 columns]"
      ]
     },
     "execution_count": 15,
     "metadata": {},
     "output_type": "execute_result"
    }
   ],
   "source": [
    "x_train"
   ]
  },
  {
   "cell_type": "code",
   "execution_count": 16,
   "id": "6c95f0ed",
   "metadata": {
    "execution": {
     "iopub.execute_input": "2024-06-10T20:16:23.398798Z",
     "iopub.status.busy": "2024-06-10T20:16:23.398385Z",
     "iopub.status.idle": "2024-06-10T20:16:23.418458Z",
     "shell.execute_reply": "2024-06-10T20:16:23.417622Z"
    },
    "papermill": {
     "duration": 0.036366,
     "end_time": "2024-06-10T20:16:23.420985",
     "exception": false,
     "start_time": "2024-06-10T20:16:23.384619",
     "status": "completed"
    },
    "tags": []
   },
   "outputs": [],
   "source": [
    "from sklearn.preprocessing import StandardScaler\n",
    "scaler=StandardScaler()\n",
    "x_train=scaler.fit_transform(x_train)\n",
    "x_test=scaler.transform(x_test)"
   ]
  },
  {
   "cell_type": "code",
   "execution_count": 17,
   "id": "323b6e0c",
   "metadata": {
    "execution": {
     "iopub.execute_input": "2024-06-10T20:16:23.447447Z",
     "iopub.status.busy": "2024-06-10T20:16:23.446646Z",
     "iopub.status.idle": "2024-06-10T20:16:23.454205Z",
     "shell.execute_reply": "2024-06-10T20:16:23.453119Z"
    },
    "papermill": {
     "duration": 0.023296,
     "end_time": "2024-06-10T20:16:23.456514",
     "exception": false,
     "start_time": "2024-06-10T20:16:23.433218",
     "status": "completed"
    },
    "tags": []
   },
   "outputs": [
    {
     "data": {
      "text/plain": [
       "array([[-0.00453947, -0.46333723, -0.35142635, ..., -0.57677292,\n",
       "        -0.56888201,  0.91416872],\n",
       "       [-1.71266412,  0.01239277, -1.04440413, ..., -0.57677292,\n",
       "        -0.56888201, -1.09388997],\n",
       "       [ 0.95822169, -0.36819123,  0.34155142, ..., -0.57677292,\n",
       "         1.75783377,  0.91416872],\n",
       "       ...,\n",
       "       [ 1.29984662, -0.08275323, -0.00493747, ...,  1.73378459,\n",
       "        -0.56888201,  0.91416872],\n",
       "       [ 0.09898324,  0.29783076, -0.00493747, ..., -0.57677292,\n",
       "         1.75783377,  0.91416872],\n",
       "       [ 0.46131271,  0.96385276,  1.38101808, ..., -0.57677292,\n",
       "        -0.56888201,  0.91416872]])"
      ]
     },
     "execution_count": 17,
     "metadata": {},
     "output_type": "execute_result"
    }
   ],
   "source": [
    "x_train"
   ]
  },
  {
   "cell_type": "code",
   "execution_count": 18,
   "id": "32a167a6",
   "metadata": {
    "execution": {
     "iopub.execute_input": "2024-06-10T20:16:23.482238Z",
     "iopub.status.busy": "2024-06-10T20:16:23.481865Z",
     "iopub.status.idle": "2024-06-10T20:16:36.698594Z",
     "shell.execute_reply": "2024-06-10T20:16:36.697398Z"
    },
    "papermill": {
     "duration": 13.232904,
     "end_time": "2024-06-10T20:16:36.701425",
     "exception": false,
     "start_time": "2024-06-10T20:16:23.468521",
     "status": "completed"
    },
    "tags": []
   },
   "outputs": [
    {
     "name": "stderr",
     "output_type": "stream",
     "text": [
      "2024-06-10 20:16:25.516351: E external/local_xla/xla/stream_executor/cuda/cuda_dnn.cc:9261] Unable to register cuDNN factory: Attempting to register factory for plugin cuDNN when one has already been registered\n",
      "2024-06-10 20:16:25.516474: E external/local_xla/xla/stream_executor/cuda/cuda_fft.cc:607] Unable to register cuFFT factory: Attempting to register factory for plugin cuFFT when one has already been registered\n",
      "2024-06-10 20:16:25.662519: E external/local_xla/xla/stream_executor/cuda/cuda_blas.cc:1515] Unable to register cuBLAS factory: Attempting to register factory for plugin cuBLAS when one has already been registered\n"
     ]
    }
   ],
   "source": [
    "import tensorflow\n",
    "from tensorflow import keras\n",
    "from tensorflow.keras import Sequential\n",
    "from tensorflow.keras.layers import Dense"
   ]
  },
  {
   "cell_type": "code",
   "execution_count": 19,
   "id": "b40e754f",
   "metadata": {
    "execution": {
     "iopub.execute_input": "2024-06-10T20:16:36.729408Z",
     "iopub.status.busy": "2024-06-10T20:16:36.728691Z",
     "iopub.status.idle": "2024-06-10T20:16:36.819603Z",
     "shell.execute_reply": "2024-06-10T20:16:36.818520Z"
    },
    "papermill": {
     "duration": 0.107954,
     "end_time": "2024-06-10T20:16:36.822337",
     "exception": false,
     "start_time": "2024-06-10T20:16:36.714383",
     "status": "completed"
    },
    "tags": []
   },
   "outputs": [
    {
     "name": "stderr",
     "output_type": "stream",
     "text": [
      "/opt/conda/lib/python3.10/site-packages/keras/src/layers/core/dense.py:87: UserWarning: Do not pass an `input_shape`/`input_dim` argument to a layer. When using Sequential models, prefer using an `Input(shape)` object as the first layer in the model instead.\n",
      "  super().__init__(activity_regularizer=activity_regularizer, **kwargs)\n"
     ]
    }
   ],
   "source": [
    "model=Sequential()\n",
    "model.add(Dense(11,activation='relu',input_dim=11))\n",
    "model.add(Dense(11,activation='relu',input_dim=11))\n",
    "model.add(Dense(1,activation=\"sigmoid\"))"
   ]
  },
  {
   "cell_type": "code",
   "execution_count": 20,
   "id": "aeccd52e",
   "metadata": {
    "execution": {
     "iopub.execute_input": "2024-06-10T20:16:36.849372Z",
     "iopub.status.busy": "2024-06-10T20:16:36.848985Z",
     "iopub.status.idle": "2024-06-10T20:16:36.866159Z",
     "shell.execute_reply": "2024-06-10T20:16:36.865229Z"
    },
    "papermill": {
     "duration": 0.033664,
     "end_time": "2024-06-10T20:16:36.868724",
     "exception": false,
     "start_time": "2024-06-10T20:16:36.835060",
     "status": "completed"
    },
    "tags": []
   },
   "outputs": [],
   "source": [
    "model.compile(loss=\"binary_crossentropy\",optimizer=\"Adam\",metrics=[\"accuracy\"])"
   ]
  },
  {
   "cell_type": "code",
   "execution_count": 21,
   "id": "457f669c",
   "metadata": {
    "execution": {
     "iopub.execute_input": "2024-06-10T20:16:36.896702Z",
     "iopub.status.busy": "2024-06-10T20:16:36.895988Z",
     "iopub.status.idle": "2024-06-10T20:16:36.917602Z",
     "shell.execute_reply": "2024-06-10T20:16:36.916531Z"
    },
    "papermill": {
     "duration": 0.038362,
     "end_time": "2024-06-10T20:16:36.920027",
     "exception": false,
     "start_time": "2024-06-10T20:16:36.881665",
     "status": "completed"
    },
    "tags": []
   },
   "outputs": [
    {
     "data": {
      "text/html": [
       "<pre style=\"white-space:pre;overflow-x:auto;line-height:normal;font-family:Menlo,'DejaVu Sans Mono',consolas,'Courier New',monospace\"><span style=\"font-weight: bold\">Model: \"sequential\"</span>\n",
       "</pre>\n"
      ],
      "text/plain": [
       "\u001b[1mModel: \"sequential\"\u001b[0m\n"
      ]
     },
     "metadata": {},
     "output_type": "display_data"
    },
    {
     "data": {
      "text/html": [
       "<pre style=\"white-space:pre;overflow-x:auto;line-height:normal;font-family:Menlo,'DejaVu Sans Mono',consolas,'Courier New',monospace\">┏━━━━━━━━━━━━━━━━━━━━━━━━━━━━━━━━━┳━━━━━━━━━━━━━━━━━━━━━━━━┳━━━━━━━━━━━━━━━┓\n",
       "┃<span style=\"font-weight: bold\"> Layer (type)                    </span>┃<span style=\"font-weight: bold\"> Output Shape           </span>┃<span style=\"font-weight: bold\">       Param # </span>┃\n",
       "┡━━━━━━━━━━━━━━━━━━━━━━━━━━━━━━━━━╇━━━━━━━━━━━━━━━━━━━━━━━━╇━━━━━━━━━━━━━━━┩\n",
       "│ dense (<span style=\"color: #0087ff; text-decoration-color: #0087ff\">Dense</span>)                   │ (<span style=\"color: #00d7ff; text-decoration-color: #00d7ff\">None</span>, <span style=\"color: #00af00; text-decoration-color: #00af00\">11</span>)             │           <span style=\"color: #00af00; text-decoration-color: #00af00\">132</span> │\n",
       "├─────────────────────────────────┼────────────────────────┼───────────────┤\n",
       "│ dense_1 (<span style=\"color: #0087ff; text-decoration-color: #0087ff\">Dense</span>)                 │ (<span style=\"color: #00d7ff; text-decoration-color: #00d7ff\">None</span>, <span style=\"color: #00af00; text-decoration-color: #00af00\">11</span>)             │           <span style=\"color: #00af00; text-decoration-color: #00af00\">132</span> │\n",
       "├─────────────────────────────────┼────────────────────────┼───────────────┤\n",
       "│ dense_2 (<span style=\"color: #0087ff; text-decoration-color: #0087ff\">Dense</span>)                 │ (<span style=\"color: #00d7ff; text-decoration-color: #00d7ff\">None</span>, <span style=\"color: #00af00; text-decoration-color: #00af00\">1</span>)              │            <span style=\"color: #00af00; text-decoration-color: #00af00\">12</span> │\n",
       "└─────────────────────────────────┴────────────────────────┴───────────────┘\n",
       "</pre>\n"
      ],
      "text/plain": [
       "┏━━━━━━━━━━━━━━━━━━━━━━━━━━━━━━━━━┳━━━━━━━━━━━━━━━━━━━━━━━━┳━━━━━━━━━━━━━━━┓\n",
       "┃\u001b[1m \u001b[0m\u001b[1mLayer (type)                   \u001b[0m\u001b[1m \u001b[0m┃\u001b[1m \u001b[0m\u001b[1mOutput Shape          \u001b[0m\u001b[1m \u001b[0m┃\u001b[1m \u001b[0m\u001b[1m      Param #\u001b[0m\u001b[1m \u001b[0m┃\n",
       "┡━━━━━━━━━━━━━━━━━━━━━━━━━━━━━━━━━╇━━━━━━━━━━━━━━━━━━━━━━━━╇━━━━━━━━━━━━━━━┩\n",
       "│ dense (\u001b[38;5;33mDense\u001b[0m)                   │ (\u001b[38;5;45mNone\u001b[0m, \u001b[38;5;34m11\u001b[0m)             │           \u001b[38;5;34m132\u001b[0m │\n",
       "├─────────────────────────────────┼────────────────────────┼───────────────┤\n",
       "│ dense_1 (\u001b[38;5;33mDense\u001b[0m)                 │ (\u001b[38;5;45mNone\u001b[0m, \u001b[38;5;34m11\u001b[0m)             │           \u001b[38;5;34m132\u001b[0m │\n",
       "├─────────────────────────────────┼────────────────────────┼───────────────┤\n",
       "│ dense_2 (\u001b[38;5;33mDense\u001b[0m)                 │ (\u001b[38;5;45mNone\u001b[0m, \u001b[38;5;34m1\u001b[0m)              │            \u001b[38;5;34m12\u001b[0m │\n",
       "└─────────────────────────────────┴────────────────────────┴───────────────┘\n"
      ]
     },
     "metadata": {},
     "output_type": "display_data"
    },
    {
     "data": {
      "text/html": [
       "<pre style=\"white-space:pre;overflow-x:auto;line-height:normal;font-family:Menlo,'DejaVu Sans Mono',consolas,'Courier New',monospace\"><span style=\"font-weight: bold\"> Total params: </span><span style=\"color: #00af00; text-decoration-color: #00af00\">276</span> (1.08 KB)\n",
       "</pre>\n"
      ],
      "text/plain": [
       "\u001b[1m Total params: \u001b[0m\u001b[38;5;34m276\u001b[0m (1.08 KB)\n"
      ]
     },
     "metadata": {},
     "output_type": "display_data"
    },
    {
     "data": {
      "text/html": [
       "<pre style=\"white-space:pre;overflow-x:auto;line-height:normal;font-family:Menlo,'DejaVu Sans Mono',consolas,'Courier New',monospace\"><span style=\"font-weight: bold\"> Trainable params: </span><span style=\"color: #00af00; text-decoration-color: #00af00\">276</span> (1.08 KB)\n",
       "</pre>\n"
      ],
      "text/plain": [
       "\u001b[1m Trainable params: \u001b[0m\u001b[38;5;34m276\u001b[0m (1.08 KB)\n"
      ]
     },
     "metadata": {},
     "output_type": "display_data"
    },
    {
     "data": {
      "text/html": [
       "<pre style=\"white-space:pre;overflow-x:auto;line-height:normal;font-family:Menlo,'DejaVu Sans Mono',consolas,'Courier New',monospace\"><span style=\"font-weight: bold\"> Non-trainable params: </span><span style=\"color: #00af00; text-decoration-color: #00af00\">0</span> (0.00 B)\n",
       "</pre>\n"
      ],
      "text/plain": [
       "\u001b[1m Non-trainable params: \u001b[0m\u001b[38;5;34m0\u001b[0m (0.00 B)\n"
      ]
     },
     "metadata": {},
     "output_type": "display_data"
    }
   ],
   "source": [
    "model.summary()"
   ]
  },
  {
   "cell_type": "code",
   "execution_count": 22,
   "id": "a0f0ea1f",
   "metadata": {
    "execution": {
     "iopub.execute_input": "2024-06-10T20:16:36.949948Z",
     "iopub.status.busy": "2024-06-10T20:16:36.949534Z",
     "iopub.status.idle": "2024-06-10T20:17:18.110870Z",
     "shell.execute_reply": "2024-06-10T20:17:18.109902Z"
    },
    "papermill": {
     "duration": 41.179386,
     "end_time": "2024-06-10T20:17:18.113366",
     "exception": false,
     "start_time": "2024-06-10T20:16:36.933980",
     "status": "completed"
    },
    "tags": []
   },
   "outputs": [
    {
     "name": "stdout",
     "output_type": "stream",
     "text": [
      "Epoch 1/100\n",
      "\u001b[1m188/188\u001b[0m \u001b[32m━━━━━━━━━━━━━━━━━━━━\u001b[0m\u001b[37m\u001b[0m \u001b[1m2s\u001b[0m 3ms/step - accuracy: 0.7843 - loss: 0.5445 - val_accuracy: 0.8175 - val_loss: 0.4491\n",
      "Epoch 2/100\n",
      "\u001b[1m188/188\u001b[0m \u001b[32m━━━━━━━━━━━━━━━━━━━━\u001b[0m\u001b[37m\u001b[0m \u001b[1m0s\u001b[0m 2ms/step - accuracy: 0.8088 - loss: 0.4451 - val_accuracy: 0.8155 - val_loss: 0.4233\n",
      "Epoch 3/100\n",
      "\u001b[1m188/188\u001b[0m \u001b[32m━━━━━━━━━━━━━━━━━━━━\u001b[0m\u001b[37m\u001b[0m \u001b[1m0s\u001b[0m 2ms/step - accuracy: 0.8172 - loss: 0.4235 - val_accuracy: 0.8255 - val_loss: 0.4124\n",
      "Epoch 4/100\n",
      "\u001b[1m188/188\u001b[0m \u001b[32m━━━━━━━━━━━━━━━━━━━━\u001b[0m\u001b[37m\u001b[0m \u001b[1m0s\u001b[0m 2ms/step - accuracy: 0.8321 - loss: 0.4031 - val_accuracy: 0.8300 - val_loss: 0.4055\n",
      "Epoch 5/100\n",
      "\u001b[1m188/188\u001b[0m \u001b[32m━━━━━━━━━━━━━━━━━━━━\u001b[0m\u001b[37m\u001b[0m \u001b[1m0s\u001b[0m 2ms/step - accuracy: 0.8276 - loss: 0.4033 - val_accuracy: 0.8330 - val_loss: 0.3999\n",
      "Epoch 6/100\n",
      "\u001b[1m188/188\u001b[0m \u001b[32m━━━━━━━━━━━━━━━━━━━━\u001b[0m\u001b[37m\u001b[0m \u001b[1m0s\u001b[0m 2ms/step - accuracy: 0.8294 - loss: 0.3910 - val_accuracy: 0.8395 - val_loss: 0.3944\n",
      "Epoch 7/100\n",
      "\u001b[1m188/188\u001b[0m \u001b[32m━━━━━━━━━━━━━━━━━━━━\u001b[0m\u001b[37m\u001b[0m \u001b[1m0s\u001b[0m 2ms/step - accuracy: 0.8357 - loss: 0.3950 - val_accuracy: 0.8405 - val_loss: 0.3869\n",
      "Epoch 8/100\n",
      "\u001b[1m188/188\u001b[0m \u001b[32m━━━━━━━━━━━━━━━━━━━━\u001b[0m\u001b[37m\u001b[0m \u001b[1m0s\u001b[0m 2ms/step - accuracy: 0.8478 - loss: 0.3719 - val_accuracy: 0.8475 - val_loss: 0.3784\n",
      "Epoch 9/100\n",
      "\u001b[1m188/188\u001b[0m \u001b[32m━━━━━━━━━━━━━━━━━━━━\u001b[0m\u001b[37m\u001b[0m \u001b[1m0s\u001b[0m 2ms/step - accuracy: 0.8355 - loss: 0.3846 - val_accuracy: 0.8480 - val_loss: 0.3729\n",
      "Epoch 10/100\n",
      "\u001b[1m188/188\u001b[0m \u001b[32m━━━━━━━━━━━━━━━━━━━━\u001b[0m\u001b[37m\u001b[0m \u001b[1m0s\u001b[0m 2ms/step - accuracy: 0.8496 - loss: 0.3739 - val_accuracy: 0.8545 - val_loss: 0.3690\n",
      "Epoch 11/100\n",
      "\u001b[1m188/188\u001b[0m \u001b[32m━━━━━━━━━━━━━━━━━━━━\u001b[0m\u001b[37m\u001b[0m \u001b[1m0s\u001b[0m 2ms/step - accuracy: 0.8536 - loss: 0.3625 - val_accuracy: 0.8515 - val_loss: 0.3625\n",
      "Epoch 12/100\n",
      "\u001b[1m188/188\u001b[0m \u001b[32m━━━━━━━━━━━━━━━━━━━━\u001b[0m\u001b[37m\u001b[0m \u001b[1m0s\u001b[0m 2ms/step - accuracy: 0.8571 - loss: 0.3517 - val_accuracy: 0.8540 - val_loss: 0.3596\n",
      "Epoch 13/100\n",
      "\u001b[1m188/188\u001b[0m \u001b[32m━━━━━━━━━━━━━━━━━━━━\u001b[0m\u001b[37m\u001b[0m \u001b[1m0s\u001b[0m 2ms/step - accuracy: 0.8553 - loss: 0.3560 - val_accuracy: 0.8550 - val_loss: 0.3585\n",
      "Epoch 14/100\n",
      "\u001b[1m188/188\u001b[0m \u001b[32m━━━━━━━━━━━━━━━━━━━━\u001b[0m\u001b[37m\u001b[0m \u001b[1m0s\u001b[0m 2ms/step - accuracy: 0.8560 - loss: 0.3571 - val_accuracy: 0.8525 - val_loss: 0.3573\n",
      "Epoch 15/100\n",
      "\u001b[1m188/188\u001b[0m \u001b[32m━━━━━━━━━━━━━━━━━━━━\u001b[0m\u001b[37m\u001b[0m \u001b[1m1s\u001b[0m 2ms/step - accuracy: 0.8554 - loss: 0.3450 - val_accuracy: 0.8535 - val_loss: 0.3556\n",
      "Epoch 16/100\n",
      "\u001b[1m188/188\u001b[0m \u001b[32m━━━━━━━━━━━━━━━━━━━━\u001b[0m\u001b[37m\u001b[0m \u001b[1m0s\u001b[0m 2ms/step - accuracy: 0.8579 - loss: 0.3424 - val_accuracy: 0.8540 - val_loss: 0.3559\n",
      "Epoch 17/100\n",
      "\u001b[1m188/188\u001b[0m \u001b[32m━━━━━━━━━━━━━━━━━━━━\u001b[0m\u001b[37m\u001b[0m \u001b[1m0s\u001b[0m 2ms/step - accuracy: 0.8610 - loss: 0.3425 - val_accuracy: 0.8555 - val_loss: 0.3507\n",
      "Epoch 18/100\n",
      "\u001b[1m188/188\u001b[0m \u001b[32m━━━━━━━━━━━━━━━━━━━━\u001b[0m\u001b[37m\u001b[0m \u001b[1m0s\u001b[0m 2ms/step - accuracy: 0.8588 - loss: 0.3445 - val_accuracy: 0.8540 - val_loss: 0.3519\n",
      "Epoch 19/100\n",
      "\u001b[1m188/188\u001b[0m \u001b[32m━━━━━━━━━━━━━━━━━━━━\u001b[0m\u001b[37m\u001b[0m \u001b[1m0s\u001b[0m 2ms/step - accuracy: 0.8652 - loss: 0.3326 - val_accuracy: 0.8585 - val_loss: 0.3486\n",
      "Epoch 20/100\n",
      "\u001b[1m188/188\u001b[0m \u001b[32m━━━━━━━━━━━━━━━━━━━━\u001b[0m\u001b[37m\u001b[0m \u001b[1m0s\u001b[0m 2ms/step - accuracy: 0.8503 - loss: 0.3535 - val_accuracy: 0.8585 - val_loss: 0.3505\n",
      "Epoch 21/100\n",
      "\u001b[1m188/188\u001b[0m \u001b[32m━━━━━━━━━━━━━━━━━━━━\u001b[0m\u001b[37m\u001b[0m \u001b[1m0s\u001b[0m 2ms/step - accuracy: 0.8617 - loss: 0.3405 - val_accuracy: 0.8590 - val_loss: 0.3532\n",
      "Epoch 22/100\n",
      "\u001b[1m188/188\u001b[0m \u001b[32m━━━━━━━━━━━━━━━━━━━━\u001b[0m\u001b[37m\u001b[0m \u001b[1m0s\u001b[0m 2ms/step - accuracy: 0.8695 - loss: 0.3276 - val_accuracy: 0.8565 - val_loss: 0.3518\n",
      "Epoch 23/100\n",
      "\u001b[1m188/188\u001b[0m \u001b[32m━━━━━━━━━━━━━━━━━━━━\u001b[0m\u001b[37m\u001b[0m \u001b[1m0s\u001b[0m 2ms/step - accuracy: 0.8562 - loss: 0.3483 - val_accuracy: 0.8620 - val_loss: 0.3472\n",
      "Epoch 24/100\n",
      "\u001b[1m188/188\u001b[0m \u001b[32m━━━━━━━━━━━━━━━━━━━━\u001b[0m\u001b[37m\u001b[0m \u001b[1m0s\u001b[0m 2ms/step - accuracy: 0.8653 - loss: 0.3317 - val_accuracy: 0.8590 - val_loss: 0.3508\n",
      "Epoch 25/100\n",
      "\u001b[1m188/188\u001b[0m \u001b[32m━━━━━━━━━━━━━━━━━━━━\u001b[0m\u001b[37m\u001b[0m \u001b[1m0s\u001b[0m 2ms/step - accuracy: 0.8661 - loss: 0.3321 - val_accuracy: 0.8580 - val_loss: 0.3516\n",
      "Epoch 26/100\n",
      "\u001b[1m188/188\u001b[0m \u001b[32m━━━━━━━━━━━━━━━━━━━━\u001b[0m\u001b[37m\u001b[0m \u001b[1m0s\u001b[0m 2ms/step - accuracy: 0.8501 - loss: 0.3545 - val_accuracy: 0.8585 - val_loss: 0.3484\n",
      "Epoch 27/100\n",
      "\u001b[1m188/188\u001b[0m \u001b[32m━━━━━━━━━━━━━━━━━━━━\u001b[0m\u001b[37m\u001b[0m \u001b[1m0s\u001b[0m 2ms/step - accuracy: 0.8634 - loss: 0.3389 - val_accuracy: 0.8595 - val_loss: 0.3454\n",
      "Epoch 28/100\n",
      "\u001b[1m188/188\u001b[0m \u001b[32m━━━━━━━━━━━━━━━━━━━━\u001b[0m\u001b[37m\u001b[0m \u001b[1m0s\u001b[0m 2ms/step - accuracy: 0.8605 - loss: 0.3384 - val_accuracy: 0.8605 - val_loss: 0.3463\n",
      "Epoch 29/100\n",
      "\u001b[1m188/188\u001b[0m \u001b[32m━━━━━━━━━━━━━━━━━━━━\u001b[0m\u001b[37m\u001b[0m \u001b[1m0s\u001b[0m 2ms/step - accuracy: 0.8642 - loss: 0.3336 - val_accuracy: 0.8590 - val_loss: 0.3474\n",
      "Epoch 30/100\n",
      "\u001b[1m188/188\u001b[0m \u001b[32m━━━━━━━━━━━━━━━━━━━━\u001b[0m\u001b[37m\u001b[0m \u001b[1m0s\u001b[0m 2ms/step - accuracy: 0.8640 - loss: 0.3281 - val_accuracy: 0.8600 - val_loss: 0.3464\n",
      "Epoch 31/100\n",
      "\u001b[1m188/188\u001b[0m \u001b[32m━━━━━━━━━━━━━━━━━━━━\u001b[0m\u001b[37m\u001b[0m \u001b[1m0s\u001b[0m 2ms/step - accuracy: 0.8669 - loss: 0.3332 - val_accuracy: 0.8605 - val_loss: 0.3459\n",
      "Epoch 32/100\n",
      "\u001b[1m188/188\u001b[0m \u001b[32m━━━━━━━━━━━━━━━━━━━━\u001b[0m\u001b[37m\u001b[0m \u001b[1m0s\u001b[0m 2ms/step - accuracy: 0.8656 - loss: 0.3262 - val_accuracy: 0.8585 - val_loss: 0.3465\n",
      "Epoch 33/100\n",
      "\u001b[1m188/188\u001b[0m \u001b[32m━━━━━━━━━━━━━━━━━━━━\u001b[0m\u001b[37m\u001b[0m \u001b[1m0s\u001b[0m 2ms/step - accuracy: 0.8668 - loss: 0.3334 - val_accuracy: 0.8555 - val_loss: 0.3487\n",
      "Epoch 34/100\n",
      "\u001b[1m188/188\u001b[0m \u001b[32m━━━━━━━━━━━━━━━━━━━━\u001b[0m\u001b[37m\u001b[0m \u001b[1m0s\u001b[0m 2ms/step - accuracy: 0.8571 - loss: 0.3434 - val_accuracy: 0.8605 - val_loss: 0.3465\n",
      "Epoch 35/100\n",
      "\u001b[1m188/188\u001b[0m \u001b[32m━━━━━━━━━━━━━━━━━━━━\u001b[0m\u001b[37m\u001b[0m \u001b[1m0s\u001b[0m 2ms/step - accuracy: 0.8680 - loss: 0.3311 - val_accuracy: 0.8570 - val_loss: 0.3486\n",
      "Epoch 36/100\n",
      "\u001b[1m188/188\u001b[0m \u001b[32m━━━━━━━━━━━━━━━━━━━━\u001b[0m\u001b[37m\u001b[0m \u001b[1m0s\u001b[0m 2ms/step - accuracy: 0.8693 - loss: 0.3239 - val_accuracy: 0.8575 - val_loss: 0.3483\n",
      "Epoch 37/100\n",
      "\u001b[1m188/188\u001b[0m \u001b[32m━━━━━━━━━━━━━━━━━━━━\u001b[0m\u001b[37m\u001b[0m \u001b[1m0s\u001b[0m 2ms/step - accuracy: 0.8580 - loss: 0.3448 - val_accuracy: 0.8565 - val_loss: 0.3472\n",
      "Epoch 38/100\n",
      "\u001b[1m188/188\u001b[0m \u001b[32m━━━━━━━━━━━━━━━━━━━━\u001b[0m\u001b[37m\u001b[0m \u001b[1m0s\u001b[0m 2ms/step - accuracy: 0.8671 - loss: 0.3309 - val_accuracy: 0.8590 - val_loss: 0.3446\n",
      "Epoch 39/100\n",
      "\u001b[1m188/188\u001b[0m \u001b[32m━━━━━━━━━━━━━━━━━━━━\u001b[0m\u001b[37m\u001b[0m \u001b[1m0s\u001b[0m 2ms/step - accuracy: 0.8710 - loss: 0.3155 - val_accuracy: 0.8555 - val_loss: 0.3462\n",
      "Epoch 40/100\n",
      "\u001b[1m188/188\u001b[0m \u001b[32m━━━━━━━━━━━━━━━━━━━━\u001b[0m\u001b[37m\u001b[0m \u001b[1m0s\u001b[0m 2ms/step - accuracy: 0.8678 - loss: 0.3247 - val_accuracy: 0.8560 - val_loss: 0.3480\n",
      "Epoch 41/100\n",
      "\u001b[1m188/188\u001b[0m \u001b[32m━━━━━━━━━━━━━━━━━━━━\u001b[0m\u001b[37m\u001b[0m \u001b[1m0s\u001b[0m 2ms/step - accuracy: 0.8630 - loss: 0.3400 - val_accuracy: 0.8560 - val_loss: 0.3486\n",
      "Epoch 42/100\n",
      "\u001b[1m188/188\u001b[0m \u001b[32m━━━━━━━━━━━━━━━━━━━━\u001b[0m\u001b[37m\u001b[0m \u001b[1m0s\u001b[0m 2ms/step - accuracy: 0.8603 - loss: 0.3357 - val_accuracy: 0.8595 - val_loss: 0.3426\n",
      "Epoch 43/100\n",
      "\u001b[1m188/188\u001b[0m \u001b[32m━━━━━━━━━━━━━━━━━━━━\u001b[0m\u001b[37m\u001b[0m \u001b[1m0s\u001b[0m 2ms/step - accuracy: 0.8566 - loss: 0.3388 - val_accuracy: 0.8580 - val_loss: 0.3452\n",
      "Epoch 44/100\n",
      "\u001b[1m188/188\u001b[0m \u001b[32m━━━━━━━━━━━━━━━━━━━━\u001b[0m\u001b[37m\u001b[0m \u001b[1m0s\u001b[0m 2ms/step - accuracy: 0.8602 - loss: 0.3369 - val_accuracy: 0.8595 - val_loss: 0.3435\n",
      "Epoch 45/100\n",
      "\u001b[1m188/188\u001b[0m \u001b[32m━━━━━━━━━━━━━━━━━━━━\u001b[0m\u001b[37m\u001b[0m \u001b[1m0s\u001b[0m 2ms/step - accuracy: 0.8621 - loss: 0.3395 - val_accuracy: 0.8575 - val_loss: 0.3447\n",
      "Epoch 46/100\n",
      "\u001b[1m188/188\u001b[0m \u001b[32m━━━━━━━━━━━━━━━━━━━━\u001b[0m\u001b[37m\u001b[0m \u001b[1m0s\u001b[0m 2ms/step - accuracy: 0.8684 - loss: 0.3247 - val_accuracy: 0.8595 - val_loss: 0.3442\n",
      "Epoch 47/100\n",
      "\u001b[1m188/188\u001b[0m \u001b[32m━━━━━━━━━━━━━━━━━━━━\u001b[0m\u001b[37m\u001b[0m \u001b[1m0s\u001b[0m 2ms/step - accuracy: 0.8621 - loss: 0.3319 - val_accuracy: 0.8620 - val_loss: 0.3427\n",
      "Epoch 48/100\n",
      "\u001b[1m188/188\u001b[0m \u001b[32m━━━━━━━━━━━━━━━━━━━━\u001b[0m\u001b[37m\u001b[0m \u001b[1m0s\u001b[0m 2ms/step - accuracy: 0.8701 - loss: 0.3182 - val_accuracy: 0.8595 - val_loss: 0.3449\n",
      "Epoch 49/100\n",
      "\u001b[1m188/188\u001b[0m \u001b[32m━━━━━━━━━━━━━━━━━━━━\u001b[0m\u001b[37m\u001b[0m \u001b[1m0s\u001b[0m 2ms/step - accuracy: 0.8707 - loss: 0.3226 - val_accuracy: 0.8585 - val_loss: 0.3447\n",
      "Epoch 50/100\n",
      "\u001b[1m188/188\u001b[0m \u001b[32m━━━━━━━━━━━━━━━━━━━━\u001b[0m\u001b[37m\u001b[0m \u001b[1m0s\u001b[0m 2ms/step - accuracy: 0.8651 - loss: 0.3295 - val_accuracy: 0.8610 - val_loss: 0.3415\n",
      "Epoch 51/100\n",
      "\u001b[1m188/188\u001b[0m \u001b[32m━━━━━━━━━━━━━━━━━━━━\u001b[0m\u001b[37m\u001b[0m \u001b[1m0s\u001b[0m 2ms/step - accuracy: 0.8609 - loss: 0.3305 - val_accuracy: 0.8595 - val_loss: 0.3441\n",
      "Epoch 52/100\n",
      "\u001b[1m188/188\u001b[0m \u001b[32m━━━━━━━━━━━━━━━━━━━━\u001b[0m\u001b[37m\u001b[0m \u001b[1m1s\u001b[0m 2ms/step - accuracy: 0.8631 - loss: 0.3296 - val_accuracy: 0.8605 - val_loss: 0.3418\n",
      "Epoch 53/100\n",
      "\u001b[1m188/188\u001b[0m \u001b[32m━━━━━━━━━━━━━━━━━━━━\u001b[0m\u001b[37m\u001b[0m \u001b[1m0s\u001b[0m 2ms/step - accuracy: 0.8622 - loss: 0.3257 - val_accuracy: 0.8590 - val_loss: 0.3458\n",
      "Epoch 54/100\n",
      "\u001b[1m188/188\u001b[0m \u001b[32m━━━━━━━━━━━━━━━━━━━━\u001b[0m\u001b[37m\u001b[0m \u001b[1m0s\u001b[0m 2ms/step - accuracy: 0.8652 - loss: 0.3263 - val_accuracy: 0.8585 - val_loss: 0.3455\n",
      "Epoch 55/100\n",
      "\u001b[1m188/188\u001b[0m \u001b[32m━━━━━━━━━━━━━━━━━━━━\u001b[0m\u001b[37m\u001b[0m \u001b[1m0s\u001b[0m 2ms/step - accuracy: 0.8682 - loss: 0.3224 - val_accuracy: 0.8605 - val_loss: 0.3423\n",
      "Epoch 56/100\n",
      "\u001b[1m188/188\u001b[0m \u001b[32m━━━━━━━━━━━━━━━━━━━━\u001b[0m\u001b[37m\u001b[0m \u001b[1m0s\u001b[0m 2ms/step - accuracy: 0.8678 - loss: 0.3218 - val_accuracy: 0.8585 - val_loss: 0.3451\n",
      "Epoch 57/100\n",
      "\u001b[1m188/188\u001b[0m \u001b[32m━━━━━━━━━━━━━━━━━━━━\u001b[0m\u001b[37m\u001b[0m \u001b[1m0s\u001b[0m 2ms/step - accuracy: 0.8700 - loss: 0.3179 - val_accuracy: 0.8585 - val_loss: 0.3447\n",
      "Epoch 58/100\n",
      "\u001b[1m188/188\u001b[0m \u001b[32m━━━━━━━━━━━━━━━━━━━━\u001b[0m\u001b[37m\u001b[0m \u001b[1m0s\u001b[0m 2ms/step - accuracy: 0.8707 - loss: 0.3168 - val_accuracy: 0.8565 - val_loss: 0.3447\n",
      "Epoch 59/100\n",
      "\u001b[1m188/188\u001b[0m \u001b[32m━━━━━━━━━━━━━━━━━━━━\u001b[0m\u001b[37m\u001b[0m \u001b[1m0s\u001b[0m 2ms/step - accuracy: 0.8697 - loss: 0.3138 - val_accuracy: 0.8585 - val_loss: 0.3455\n",
      "Epoch 60/100\n",
      "\u001b[1m188/188\u001b[0m \u001b[32m━━━━━━━━━━━━━━━━━━━━\u001b[0m\u001b[37m\u001b[0m \u001b[1m0s\u001b[0m 2ms/step - accuracy: 0.8607 - loss: 0.3375 - val_accuracy: 0.8590 - val_loss: 0.3436\n",
      "Epoch 61/100\n",
      "\u001b[1m188/188\u001b[0m \u001b[32m━━━━━━━━━━━━━━━━━━━━\u001b[0m\u001b[37m\u001b[0m \u001b[1m0s\u001b[0m 2ms/step - accuracy: 0.8655 - loss: 0.3240 - val_accuracy: 0.8600 - val_loss: 0.3427\n",
      "Epoch 62/100\n",
      "\u001b[1m188/188\u001b[0m \u001b[32m━━━━━━━━━━━━━━━━━━━━\u001b[0m\u001b[37m\u001b[0m \u001b[1m0s\u001b[0m 2ms/step - accuracy: 0.8667 - loss: 0.3195 - val_accuracy: 0.8610 - val_loss: 0.3442\n",
      "Epoch 63/100\n",
      "\u001b[1m188/188\u001b[0m \u001b[32m━━━━━━━━━━━━━━━━━━━━\u001b[0m\u001b[37m\u001b[0m \u001b[1m0s\u001b[0m 2ms/step - accuracy: 0.8653 - loss: 0.3255 - val_accuracy: 0.8570 - val_loss: 0.3430\n",
      "Epoch 64/100\n",
      "\u001b[1m188/188\u001b[0m \u001b[32m━━━━━━━━━━━━━━━━━━━━\u001b[0m\u001b[37m\u001b[0m \u001b[1m0s\u001b[0m 2ms/step - accuracy: 0.8738 - loss: 0.3136 - val_accuracy: 0.8625 - val_loss: 0.3427\n",
      "Epoch 65/100\n",
      "\u001b[1m188/188\u001b[0m \u001b[32m━━━━━━━━━━━━━━━━━━━━\u001b[0m\u001b[37m\u001b[0m \u001b[1m0s\u001b[0m 2ms/step - accuracy: 0.8711 - loss: 0.3143 - val_accuracy: 0.8555 - val_loss: 0.3446\n",
      "Epoch 66/100\n",
      "\u001b[1m188/188\u001b[0m \u001b[32m━━━━━━━━━━━━━━━━━━━━\u001b[0m\u001b[37m\u001b[0m \u001b[1m0s\u001b[0m 2ms/step - accuracy: 0.8749 - loss: 0.3072 - val_accuracy: 0.8615 - val_loss: 0.3430\n",
      "Epoch 67/100\n",
      "\u001b[1m188/188\u001b[0m \u001b[32m━━━━━━━━━━━━━━━━━━━━\u001b[0m\u001b[37m\u001b[0m \u001b[1m0s\u001b[0m 2ms/step - accuracy: 0.8647 - loss: 0.3262 - val_accuracy: 0.8605 - val_loss: 0.3412\n",
      "Epoch 68/100\n",
      "\u001b[1m188/188\u001b[0m \u001b[32m━━━━━━━━━━━━━━━━━━━━\u001b[0m\u001b[37m\u001b[0m \u001b[1m0s\u001b[0m 2ms/step - accuracy: 0.8699 - loss: 0.3109 - val_accuracy: 0.8590 - val_loss: 0.3432\n",
      "Epoch 69/100\n",
      "\u001b[1m188/188\u001b[0m \u001b[32m━━━━━━━━━━━━━━━━━━━━\u001b[0m\u001b[37m\u001b[0m \u001b[1m0s\u001b[0m 2ms/step - accuracy: 0.8676 - loss: 0.3230 - val_accuracy: 0.8620 - val_loss: 0.3427\n",
      "Epoch 70/100\n",
      "\u001b[1m188/188\u001b[0m \u001b[32m━━━━━━━━━━━━━━━━━━━━\u001b[0m\u001b[37m\u001b[0m \u001b[1m0s\u001b[0m 2ms/step - accuracy: 0.8607 - loss: 0.3255 - val_accuracy: 0.8580 - val_loss: 0.3442\n",
      "Epoch 71/100\n",
      "\u001b[1m188/188\u001b[0m \u001b[32m━━━━━━━━━━━━━━━━━━━━\u001b[0m\u001b[37m\u001b[0m \u001b[1m0s\u001b[0m 2ms/step - accuracy: 0.8643 - loss: 0.3202 - val_accuracy: 0.8620 - val_loss: 0.3430\n",
      "Epoch 72/100\n",
      "\u001b[1m188/188\u001b[0m \u001b[32m━━━━━━━━━━━━━━━━━━━━\u001b[0m\u001b[37m\u001b[0m \u001b[1m0s\u001b[0m 2ms/step - accuracy: 0.8677 - loss: 0.3207 - val_accuracy: 0.8575 - val_loss: 0.3440\n",
      "Epoch 73/100\n",
      "\u001b[1m188/188\u001b[0m \u001b[32m━━━━━━━━━━━━━━━━━━━━\u001b[0m\u001b[37m\u001b[0m \u001b[1m0s\u001b[0m 2ms/step - accuracy: 0.8673 - loss: 0.3203 - val_accuracy: 0.8615 - val_loss: 0.3425\n",
      "Epoch 74/100\n",
      "\u001b[1m188/188\u001b[0m \u001b[32m━━━━━━━━━━━━━━━━━━━━\u001b[0m\u001b[37m\u001b[0m \u001b[1m0s\u001b[0m 2ms/step - accuracy: 0.8715 - loss: 0.3121 - val_accuracy: 0.8600 - val_loss: 0.3443\n",
      "Epoch 75/100\n",
      "\u001b[1m188/188\u001b[0m \u001b[32m━━━━━━━━━━━━━━━━━━━━\u001b[0m\u001b[37m\u001b[0m \u001b[1m0s\u001b[0m 2ms/step - accuracy: 0.8690 - loss: 0.3237 - val_accuracy: 0.8620 - val_loss: 0.3423\n",
      "Epoch 76/100\n",
      "\u001b[1m188/188\u001b[0m \u001b[32m━━━━━━━━━━━━━━━━━━━━\u001b[0m\u001b[37m\u001b[0m \u001b[1m0s\u001b[0m 2ms/step - accuracy: 0.8588 - loss: 0.3344 - val_accuracy: 0.8585 - val_loss: 0.3454\n",
      "Epoch 77/100\n",
      "\u001b[1m188/188\u001b[0m \u001b[32m━━━━━━━━━━━━━━━━━━━━\u001b[0m\u001b[37m\u001b[0m \u001b[1m0s\u001b[0m 2ms/step - accuracy: 0.8713 - loss: 0.3161 - val_accuracy: 0.8615 - val_loss: 0.3421\n",
      "Epoch 78/100\n",
      "\u001b[1m188/188\u001b[0m \u001b[32m━━━━━━━━━━━━━━━━━━━━\u001b[0m\u001b[37m\u001b[0m \u001b[1m0s\u001b[0m 2ms/step - accuracy: 0.8600 - loss: 0.3260 - val_accuracy: 0.8590 - val_loss: 0.3436\n",
      "Epoch 79/100\n",
      "\u001b[1m188/188\u001b[0m \u001b[32m━━━━━━━━━━━━━━━━━━━━\u001b[0m\u001b[37m\u001b[0m \u001b[1m0s\u001b[0m 2ms/step - accuracy: 0.8660 - loss: 0.3197 - val_accuracy: 0.8635 - val_loss: 0.3429\n",
      "Epoch 80/100\n",
      "\u001b[1m188/188\u001b[0m \u001b[32m━━━━━━━━━━━━━━━━━━━━\u001b[0m\u001b[37m\u001b[0m \u001b[1m0s\u001b[0m 2ms/step - accuracy: 0.8622 - loss: 0.3213 - val_accuracy: 0.8575 - val_loss: 0.3469\n",
      "Epoch 81/100\n",
      "\u001b[1m188/188\u001b[0m \u001b[32m━━━━━━━━━━━━━━━━━━━━\u001b[0m\u001b[37m\u001b[0m \u001b[1m0s\u001b[0m 2ms/step - accuracy: 0.8691 - loss: 0.3164 - val_accuracy: 0.8600 - val_loss: 0.3429\n",
      "Epoch 82/100\n",
      "\u001b[1m188/188\u001b[0m \u001b[32m━━━━━━━━━━━━━━━━━━━━\u001b[0m\u001b[37m\u001b[0m \u001b[1m0s\u001b[0m 2ms/step - accuracy: 0.8684 - loss: 0.3216 - val_accuracy: 0.8605 - val_loss: 0.3424\n",
      "Epoch 83/100\n",
      "\u001b[1m188/188\u001b[0m \u001b[32m━━━━━━━━━━━━━━━━━━━━\u001b[0m\u001b[37m\u001b[0m \u001b[1m0s\u001b[0m 2ms/step - accuracy: 0.8707 - loss: 0.3173 - val_accuracy: 0.8610 - val_loss: 0.3444\n",
      "Epoch 84/100\n",
      "\u001b[1m188/188\u001b[0m \u001b[32m━━━━━━━━━━━━━━━━━━━━\u001b[0m\u001b[37m\u001b[0m \u001b[1m0s\u001b[0m 2ms/step - accuracy: 0.8696 - loss: 0.3198 - val_accuracy: 0.8590 - val_loss: 0.3436\n",
      "Epoch 85/100\n",
      "\u001b[1m188/188\u001b[0m \u001b[32m━━━━━━━━━━━━━━━━━━━━\u001b[0m\u001b[37m\u001b[0m \u001b[1m0s\u001b[0m 2ms/step - accuracy: 0.8672 - loss: 0.3189 - val_accuracy: 0.8585 - val_loss: 0.3456\n",
      "Epoch 86/100\n",
      "\u001b[1m188/188\u001b[0m \u001b[32m━━━━━━━━━━━━━━━━━━━━\u001b[0m\u001b[37m\u001b[0m \u001b[1m0s\u001b[0m 2ms/step - accuracy: 0.8621 - loss: 0.3221 - val_accuracy: 0.8535 - val_loss: 0.3484\n",
      "Epoch 87/100\n",
      "\u001b[1m188/188\u001b[0m \u001b[32m━━━━━━━━━━━━━━━━━━━━\u001b[0m\u001b[37m\u001b[0m \u001b[1m0s\u001b[0m 2ms/step - accuracy: 0.8597 - loss: 0.3251 - val_accuracy: 0.8640 - val_loss: 0.3418\n",
      "Epoch 88/100\n",
      "\u001b[1m188/188\u001b[0m \u001b[32m━━━━━━━━━━━━━━━━━━━━\u001b[0m\u001b[37m\u001b[0m \u001b[1m0s\u001b[0m 2ms/step - accuracy: 0.8739 - loss: 0.3161 - val_accuracy: 0.8620 - val_loss: 0.3416\n",
      "Epoch 89/100\n",
      "\u001b[1m188/188\u001b[0m \u001b[32m━━━━━━━━━━━━━━━━━━━━\u001b[0m\u001b[37m\u001b[0m \u001b[1m0s\u001b[0m 2ms/step - accuracy: 0.8639 - loss: 0.3246 - val_accuracy: 0.8590 - val_loss: 0.3453\n",
      "Epoch 90/100\n",
      "\u001b[1m188/188\u001b[0m \u001b[32m━━━━━━━━━━━━━━━━━━━━\u001b[0m\u001b[37m\u001b[0m \u001b[1m0s\u001b[0m 2ms/step - accuracy: 0.8748 - loss: 0.3128 - val_accuracy: 0.8595 - val_loss: 0.3419\n",
      "Epoch 91/100\n",
      "\u001b[1m188/188\u001b[0m \u001b[32m━━━━━━━━━━━━━━━━━━━━\u001b[0m\u001b[37m\u001b[0m \u001b[1m0s\u001b[0m 2ms/step - accuracy: 0.8760 - loss: 0.3119 - val_accuracy: 0.8550 - val_loss: 0.3479\n",
      "Epoch 92/100\n",
      "\u001b[1m188/188\u001b[0m \u001b[32m━━━━━━━━━━━━━━━━━━━━\u001b[0m\u001b[37m\u001b[0m \u001b[1m0s\u001b[0m 2ms/step - accuracy: 0.8658 - loss: 0.3304 - val_accuracy: 0.8585 - val_loss: 0.3432\n",
      "Epoch 93/100\n",
      "\u001b[1m188/188\u001b[0m \u001b[32m━━━━━━━━━━━━━━━━━━━━\u001b[0m\u001b[37m\u001b[0m \u001b[1m0s\u001b[0m 2ms/step - accuracy: 0.8648 - loss: 0.3181 - val_accuracy: 0.8630 - val_loss: 0.3433\n",
      "Epoch 94/100\n",
      "\u001b[1m188/188\u001b[0m \u001b[32m━━━━━━━━━━━━━━━━━━━━\u001b[0m\u001b[37m\u001b[0m \u001b[1m0s\u001b[0m 2ms/step - accuracy: 0.8667 - loss: 0.3153 - val_accuracy: 0.8620 - val_loss: 0.3415\n",
      "Epoch 95/100\n",
      "\u001b[1m188/188\u001b[0m \u001b[32m━━━━━━━━━━━━━━━━━━━━\u001b[0m\u001b[37m\u001b[0m \u001b[1m0s\u001b[0m 2ms/step - accuracy: 0.8634 - loss: 0.3218 - val_accuracy: 0.8610 - val_loss: 0.3425\n",
      "Epoch 96/100\n",
      "\u001b[1m188/188\u001b[0m \u001b[32m━━━━━━━━━━━━━━━━━━━━\u001b[0m\u001b[37m\u001b[0m \u001b[1m0s\u001b[0m 2ms/step - accuracy: 0.8621 - loss: 0.3241 - val_accuracy: 0.8615 - val_loss: 0.3443\n",
      "Epoch 97/100\n",
      "\u001b[1m188/188\u001b[0m \u001b[32m━━━━━━━━━━━━━━━━━━━━\u001b[0m\u001b[37m\u001b[0m \u001b[1m0s\u001b[0m 2ms/step - accuracy: 0.8698 - loss: 0.3234 - val_accuracy: 0.8615 - val_loss: 0.3427\n",
      "Epoch 98/100\n",
      "\u001b[1m188/188\u001b[0m \u001b[32m━━━━━━━━━━━━━━━━━━━━\u001b[0m\u001b[37m\u001b[0m \u001b[1m0s\u001b[0m 2ms/step - accuracy: 0.8634 - loss: 0.3265 - val_accuracy: 0.8550 - val_loss: 0.3488\n",
      "Epoch 99/100\n",
      "\u001b[1m188/188\u001b[0m \u001b[32m━━━━━━━━━━━━━━━━━━━━\u001b[0m\u001b[37m\u001b[0m \u001b[1m0s\u001b[0m 2ms/step - accuracy: 0.8647 - loss: 0.3210 - val_accuracy: 0.8620 - val_loss: 0.3442\n",
      "Epoch 100/100\n",
      "\u001b[1m188/188\u001b[0m \u001b[32m━━━━━━━━━━━━━━━━━━━━\u001b[0m\u001b[37m\u001b[0m \u001b[1m0s\u001b[0m 2ms/step - accuracy: 0.8625 - loss: 0.3263 - val_accuracy: 0.8630 - val_loss: 0.3428\n"
     ]
    }
   ],
   "source": [
    "history=model.fit(x_train,y_train,epochs=100,validation_split=0.25)"
   ]
  },
  {
   "cell_type": "code",
   "execution_count": 23,
   "id": "f8b498df",
   "metadata": {
    "execution": {
     "iopub.execute_input": "2024-06-10T20:17:18.291164Z",
     "iopub.status.busy": "2024-06-10T20:17:18.290734Z",
     "iopub.status.idle": "2024-06-10T20:17:18.302921Z",
     "shell.execute_reply": "2024-06-10T20:17:18.301897Z"
    },
    "papermill": {
     "duration": 0.10405,
     "end_time": "2024-06-10T20:17:18.305307",
     "exception": false,
     "start_time": "2024-06-10T20:17:18.201257",
     "status": "completed"
    },
    "tags": []
   },
   "outputs": [
    {
     "data": {
      "text/plain": [
       "[array([[ 0.04575659,  0.02805106,  0.19864559, -0.04694176,  0.2045746 ,\n",
       "         -0.12551638,  0.00235933,  0.24029773, -0.07060942, -0.05344662,\n",
       "         -0.08425181],\n",
       "        [ 0.29374298, -0.58056533,  0.53286827,  0.6573319 , -0.17943975,\n",
       "         -0.43986478,  0.09557104,  0.26319432, -0.69889736,  0.5016678 ,\n",
       "          0.17921056],\n",
       "        [-0.07754207,  0.07601463,  0.22870196, -0.00896022,  0.28655288,\n",
       "          0.16617155,  0.03547222, -0.23452334,  0.06775733, -0.76692396,\n",
       "          0.08163561],\n",
       "        [ 1.4126834 ,  0.21482828,  0.19530278, -0.5030038 ,  0.39508817,\n",
       "         -0.10372227, -0.31334028,  0.17883626, -0.47694337,  0.05571298,\n",
       "          0.49791154],\n",
       "        [-0.37273744,  0.12290517,  0.03591424, -0.07034369, -0.14221826,\n",
       "         -0.11949097, -1.4737676 ,  0.58018744, -0.24270713,  0.16479667,\n",
       "          0.99798256],\n",
       "        [ 0.19377889, -0.09348848,  0.12316858,  0.17644297, -0.0078446 ,\n",
       "         -0.36262783,  0.02162664,  0.987399  ,  0.15682824, -0.4231086 ,\n",
       "         -0.22285998],\n",
       "        [-0.5021595 , -0.33126664,  0.83272654,  0.12616597,  0.29775724,\n",
       "         -0.65158916, -0.26928675, -0.22247568,  0.123358  ,  0.41524258,\n",
       "         -0.25270292],\n",
       "        [ 0.07501242,  0.10554649,  0.01329939,  0.11248218, -0.09426723,\n",
       "         -0.18787213,  0.08039478,  0.2146705 ,  0.00177538, -0.17801635,\n",
       "          0.09375828],\n",
       "        [-0.52552634, -0.1749302 ,  0.2568931 , -0.35538584,  0.03776075,\n",
       "         -0.15011264,  0.3167415 ,  0.48996842,  0.2552718 , -0.13655768,\n",
       "         -0.34859353],\n",
       "        [-0.15042454, -0.03516132,  0.10273832,  0.15191168,  0.26001412,\n",
       "         -0.09094536,  0.08571877, -0.09679583,  0.3349797 , -0.7276561 ,\n",
       "          0.1584554 ],\n",
       "        [-0.03887837,  0.1045543 , -0.1428882 ,  1.0094072 ,  0.99172616,\n",
       "         -0.06668624,  0.0210489 , -0.1508889 ,  0.00970247,  0.13794342,\n",
       "          0.10466116]], dtype=float32),\n",
       " array([-0.49903336,  0.8562005 , -0.18841466,  0.29335564, -0.00737199,\n",
       "         0.04850635,  0.24060436,  0.34864587,  0.80948097,  0.20173699,\n",
       "        -0.33050245], dtype=float32)]"
      ]
     },
     "execution_count": 23,
     "metadata": {},
     "output_type": "execute_result"
    }
   ],
   "source": [
    "model.layers[0].get_weights()"
   ]
  },
  {
   "cell_type": "code",
   "execution_count": 24,
   "id": "ab01665f",
   "metadata": {
    "execution": {
     "iopub.execute_input": "2024-06-10T20:17:18.484725Z",
     "iopub.status.busy": "2024-06-10T20:17:18.484336Z",
     "iopub.status.idle": "2024-06-10T20:17:18.494436Z",
     "shell.execute_reply": "2024-06-10T20:17:18.493364Z"
    },
    "papermill": {
     "duration": 0.102081,
     "end_time": "2024-06-10T20:17:18.496772",
     "exception": false,
     "start_time": "2024-06-10T20:17:18.394691",
     "status": "completed"
    },
    "tags": []
   },
   "outputs": [
    {
     "data": {
      "text/plain": [
       "[array([[-0.960678  ,  0.5138138 , -0.02391526,  0.41994804,  0.03826956,\n",
       "         -0.8652696 ,  0.3558552 , -0.05411211, -0.07198595, -0.39119893,\n",
       "          0.29050705],\n",
       "        [-0.5242284 ,  0.41094756,  0.10836841, -0.88811636, -0.4094974 ,\n",
       "         -0.5272049 , -0.7300805 ,  0.27068943, -0.14142375, -0.34587637,\n",
       "          0.2828    ],\n",
       "        [-0.12615322, -0.78105974, -0.75350296, -0.77506226,  0.3784236 ,\n",
       "          0.21330254, -0.09108599,  0.31050664, -0.14785212,  0.047078  ,\n",
       "          0.24983762],\n",
       "        [ 0.4713213 ,  0.04742459, -0.1533158 ,  0.43726236,  0.50294906,\n",
       "         -0.24623498, -0.51798177,  0.4107754 , -0.49649486,  0.4157392 ,\n",
       "          0.31362155],\n",
       "        [ 0.00256482,  0.38850138,  0.5990019 ,  0.03483329,  0.3367324 ,\n",
       "         -0.0104489 ,  0.44802055,  0.0226895 ,  0.05879125, -0.5799463 ,\n",
       "          0.19363391],\n",
       "        [ 0.25800246, -0.03862932,  0.1778107 , -0.24105108,  0.38903567,\n",
       "         -0.09290588, -0.25946736, -0.101295  , -0.26101956,  0.34924257,\n",
       "          0.27010566],\n",
       "        [ 1.0853343 ,  0.43778366, -0.02265289,  0.32596067, -0.53832144,\n",
       "         -0.34040296,  0.4593904 , -0.5932754 , -0.3625812 , -0.1041752 ,\n",
       "         -0.35663813],\n",
       "        [ 0.43333438,  0.21246432,  0.5225237 ,  0.01835599,  0.18540564,\n",
       "          0.69529945, -0.09093955, -0.27765325, -0.25445634,  0.12294222,\n",
       "          0.55469817],\n",
       "        [-0.3139289 , -0.0610122 ,  0.5967417 , -0.24165681,  0.20396215,\n",
       "         -0.01074866, -0.6060337 ,  0.29658714,  0.07992809,  0.11898258,\n",
       "          0.11131357],\n",
       "        [-0.10650615,  0.01456219, -0.11838917,  0.42038745,  0.4430646 ,\n",
       "          0.16927722,  0.25714728,  0.0890667 , -0.50707835,  0.02205095,\n",
       "          0.6833863 ],\n",
       "        [ 0.6200771 ,  0.8522035 , -0.18475276,  0.5492834 , -0.15059106,\n",
       "          0.5092305 ,  0.37102386,  0.2407451 , -0.10311207, -0.68136954,\n",
       "         -0.74182355]], dtype=float32),\n",
       " array([-0.09603465, -0.1941437 ,  0.5988995 ,  0.01966167,  0.5714956 ,\n",
       "        -0.01347848,  0.19399187,  0.31984028, -0.10125095,  0.23691683,\n",
       "         0.45077464], dtype=float32)]"
      ]
     },
     "execution_count": 24,
     "metadata": {},
     "output_type": "execute_result"
    }
   ],
   "source": [
    "model.layers[1].get_weights()"
   ]
  },
  {
   "cell_type": "code",
   "execution_count": 25,
   "id": "dba7d8e2",
   "metadata": {
    "execution": {
     "iopub.execute_input": "2024-06-10T20:17:18.737909Z",
     "iopub.status.busy": "2024-06-10T20:17:18.736714Z",
     "iopub.status.idle": "2024-06-10T20:17:18.747975Z",
     "shell.execute_reply": "2024-06-10T20:17:18.746796Z"
    },
    "papermill": {
     "duration": 0.104742,
     "end_time": "2024-06-10T20:17:18.750438",
     "exception": false,
     "start_time": "2024-06-10T20:17:18.645696",
     "status": "completed"
    },
    "tags": []
   },
   "outputs": [
    {
     "data": {
      "text/plain": [
       "[array([[ 0.77232194],\n",
       "        [ 0.27401203],\n",
       "        [-0.46222076],\n",
       "        [ 1.0904527 ],\n",
       "        [-0.39505246],\n",
       "        [ 1.3789567 ],\n",
       "        [ 1.3232327 ],\n",
       "        [-0.79359454],\n",
       "        [ 0.12290412],\n",
       "        [-0.532475  ],\n",
       "        [-0.8882178 ]], dtype=float32),\n",
       " array([-0.3560839], dtype=float32)]"
      ]
     },
     "execution_count": 25,
     "metadata": {},
     "output_type": "execute_result"
    }
   ],
   "source": [
    "model.layers[2].get_weights()"
   ]
  },
  {
   "cell_type": "code",
   "execution_count": 26,
   "id": "9cf347a7",
   "metadata": {
    "execution": {
     "iopub.execute_input": "2024-06-10T20:17:18.929431Z",
     "iopub.status.busy": "2024-06-10T20:17:18.929034Z",
     "iopub.status.idle": "2024-06-10T20:17:19.180056Z",
     "shell.execute_reply": "2024-06-10T20:17:19.178949Z"
    },
    "papermill": {
     "duration": 0.343777,
     "end_time": "2024-06-10T20:17:19.182913",
     "exception": false,
     "start_time": "2024-06-10T20:17:18.839136",
     "status": "completed"
    },
    "tags": []
   },
   "outputs": [
    {
     "name": "stdout",
     "output_type": "stream",
     "text": [
      "\u001b[1m63/63\u001b[0m \u001b[32m━━━━━━━━━━━━━━━━━━━━\u001b[0m\u001b[37m\u001b[0m \u001b[1m0s\u001b[0m 2ms/step\n"
     ]
    }
   ],
   "source": [
    "y_pred=model.predict(x_test)"
   ]
  },
  {
   "cell_type": "code",
   "execution_count": 27,
   "id": "b8554c7c",
   "metadata": {
    "execution": {
     "iopub.execute_input": "2024-06-10T20:17:19.366642Z",
     "iopub.status.busy": "2024-06-10T20:17:19.366245Z",
     "iopub.status.idle": "2024-06-10T20:17:19.373030Z",
     "shell.execute_reply": "2024-06-10T20:17:19.372020Z"
    },
    "papermill": {
     "duration": 0.101044,
     "end_time": "2024-06-10T20:17:19.375245",
     "exception": false,
     "start_time": "2024-06-10T20:17:19.274201",
     "status": "completed"
    },
    "tags": []
   },
   "outputs": [
    {
     "data": {
      "text/plain": [
       "(2000, 1)"
      ]
     },
     "execution_count": 27,
     "metadata": {},
     "output_type": "execute_result"
    }
   ],
   "source": [
    "y_pred.shape"
   ]
  },
  {
   "cell_type": "code",
   "execution_count": 28,
   "id": "ec6e8454",
   "metadata": {
    "execution": {
     "iopub.execute_input": "2024-06-10T20:17:19.559427Z",
     "iopub.status.busy": "2024-06-10T20:17:19.559020Z",
     "iopub.status.idle": "2024-06-10T20:17:19.564816Z",
     "shell.execute_reply": "2024-06-10T20:17:19.563862Z"
    },
    "papermill": {
     "duration": 0.100226,
     "end_time": "2024-06-10T20:17:19.567213",
     "exception": false,
     "start_time": "2024-06-10T20:17:19.466987",
     "status": "completed"
    },
    "tags": []
   },
   "outputs": [],
   "source": [
    "y_pred=np.where(y_pred>=0.5,1,0)\n"
   ]
  },
  {
   "cell_type": "code",
   "execution_count": 29,
   "id": "f03b06e2",
   "metadata": {
    "execution": {
     "iopub.execute_input": "2024-06-10T20:17:19.747933Z",
     "iopub.status.busy": "2024-06-10T20:17:19.747520Z",
     "iopub.status.idle": "2024-06-10T20:17:19.754573Z",
     "shell.execute_reply": "2024-06-10T20:17:19.753595Z"
    },
    "papermill": {
     "duration": 0.100236,
     "end_time": "2024-06-10T20:17:19.756889",
     "exception": false,
     "start_time": "2024-06-10T20:17:19.656653",
     "status": "completed"
    },
    "tags": []
   },
   "outputs": [
    {
     "data": {
      "text/plain": [
       "array([[0],\n",
       "       [0],\n",
       "       [0],\n",
       "       ...,\n",
       "       [0],\n",
       "       [0],\n",
       "       [0]])"
      ]
     },
     "execution_count": 29,
     "metadata": {},
     "output_type": "execute_result"
    }
   ],
   "source": [
    "y_pred"
   ]
  },
  {
   "cell_type": "code",
   "execution_count": 30,
   "id": "70a7efa1",
   "metadata": {
    "execution": {
     "iopub.execute_input": "2024-06-10T20:17:19.938127Z",
     "iopub.status.busy": "2024-06-10T20:17:19.937441Z",
     "iopub.status.idle": "2024-06-10T20:17:19.946803Z",
     "shell.execute_reply": "2024-06-10T20:17:19.945629Z"
    },
    "papermill": {
     "duration": 0.10271,
     "end_time": "2024-06-10T20:17:19.949279",
     "exception": false,
     "start_time": "2024-06-10T20:17:19.846569",
     "status": "completed"
    },
    "tags": []
   },
   "outputs": [
    {
     "data": {
      "text/plain": [
       "0.8525"
      ]
     },
     "execution_count": 30,
     "metadata": {},
     "output_type": "execute_result"
    }
   ],
   "source": [
    "from sklearn.metrics import accuracy_score\n",
    "score=accuracy_score(y_test,y_pred)\n",
    "score"
   ]
  },
  {
   "cell_type": "code",
   "execution_count": 31,
   "id": "9dabf3c9",
   "metadata": {
    "execution": {
     "iopub.execute_input": "2024-06-10T20:17:20.133772Z",
     "iopub.status.busy": "2024-06-10T20:17:20.133041Z",
     "iopub.status.idle": "2024-06-10T20:17:20.394207Z",
     "shell.execute_reply": "2024-06-10T20:17:20.393043Z"
    },
    "papermill": {
     "duration": 0.355699,
     "end_time": "2024-06-10T20:17:20.396731",
     "exception": false,
     "start_time": "2024-06-10T20:17:20.041032",
     "status": "completed"
    },
    "tags": []
   },
   "outputs": [
    {
     "data": {
      "text/plain": [
       "[<matplotlib.lines.Line2D at 0x7abb4444a950>]"
      ]
     },
     "execution_count": 31,
     "metadata": {},
     "output_type": "execute_result"
    },
    {
     "data": {
      "image/png": "[encoded data removed]",
      "text/plain": [
       "<Figure size 640x480 with 1 Axes>"
      ]
     },
     "metadata": {},
     "output_type": "display_data"
    }
   ],
   "source": [
    "plt.plot(history.history[\"loss\"],c=\"r\")\n",
    "plt.plot(history.history[\"val_loss\"],c=\"b\")"
   ]
  },
  {
   "cell_type": "code",
   "execution_count": 32,
   "id": "807f1e2a",
   "metadata": {
    "execution": {
     "iopub.execute_input": "2024-06-10T20:17:20.582486Z",
     "iopub.status.busy": "2024-06-10T20:17:20.582080Z",
     "iopub.status.idle": "2024-06-10T20:17:20.868489Z",
     "shell.execute_reply": "2024-06-10T20:17:20.867335Z"
    },
    "papermill": {
     "duration": 0.381352,
     "end_time": "2024-06-10T20:17:20.871056",
     "exception": false,
     "start_time": "2024-06-10T20:17:20.489704",
     "status": "completed"
    },
    "tags": []
   },
   "outputs": [
    {
     "data": {
      "text/plain": [
       "[<matplotlib.lines.Line2D at 0x7abb44346ec0>]"
      ]
     },
     "execution_count": 32,
     "metadata": {},
     "output_type": "execute_result"
    },
    {
     "data": {
      "image/png": "[encoded data removed]",
      "text/plain": [
       "<Figure size 640x480 with 1 Axes>"
      ]
     },
     "metadata": {},
     "output_type": "display_data"
    }
   ],
   "source": [
    "plt.plot(history.history[\"accuracy\"],c=\"r\")\n",
    "plt.plot(history.history[\"val_accuracy\"],c=\"b\")"
   ]
  }
 ],
 "metadata": {
  "kaggle": {
   "accelerator": "none",
   "dataSources": [
    {
     "datasetId": 869651,
     "sourceId": 1481789,
     "sourceType": "datasetVersion"
    }
   ],
   "dockerImageVersionId": 30732,
   "isGpuEnabled": false,
   "isInternetEnabled": false,
   "language": "python",
   "sourceType": "notebook"
  },
  "kernelspec": {
   "display_name": "Python 3",
   "language": "python",
   "name": "python3"
  },
  "language_info": {
   "codemirror_mode": {
    "name": "ipython",
    "version": 3
   },
   "file_extension": ".py",
   "mimetype": "text/x-python",
   "name": "python",
   "nbconvert_exporter": "python",
   "pygments_lexer": "ipython3",
   "version": "3.10.13"
  },
  "papermill": {
   "default_parameters": {},
   "duration": 66.15042,
   "end_time": "2024-06-10T20:17:23.415956",
   "environment_variables": {},
   "exception": null,
   "input_path": "__notebook__.ipynb",
   "output_path": "__notebook__.ipynb",
   "parameters": {},
   "start_time": "2024-06-10T20:16:17.265536",
   "version": "2.5.0"
  }
 },
 "nbformat": 4,
 "nbformat_minor": 5
}
